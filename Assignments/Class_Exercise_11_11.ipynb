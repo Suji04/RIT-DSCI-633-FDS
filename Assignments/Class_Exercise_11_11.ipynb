{
  "nbformat": 4,
  "nbformat_minor": 0,
  "metadata": {
    "kernelspec": {
      "display_name": "Python 3",
      "language": "python",
      "name": "python3"
    },
    "language_info": {
      "codemirror_mode": {
        "name": "ipython",
        "version": 3
      },
      "file_extension": ".py",
      "mimetype": "text/x-python",
      "name": "python",
      "nbconvert_exporter": "python",
      "pygments_lexer": "ipython3",
      "version": "3.7.10"
    },
    "nav_menu": {
      "height": "360px",
      "width": "416px"
    },
    "toc": {
      "navigate_menu": true,
      "number_sections": true,
      "sideBar": true,
      "threshold": 6,
      "toc_cell": false,
      "toc_section_display": "block",
      "toc_window_display": false
    },
    "colab": {
      "name": "Class Exercise 11/11.ipynb",
      "provenance": [],
      "collapsed_sections": [],
      "include_colab_link": true
    }
  },
  "cells": [
    {
      "cell_type": "markdown",
      "metadata": {
        "id": "view-in-github",
        "colab_type": "text"
      },
      "source": [
        "<a href=\"https://colab.research.google.com/github/Suji04/RIT-DSCI-633-FDS/blob/main/Assignments/Class_Exercise_11_11.ipynb\" target=\"_parent\"><img src=\"https://colab.research.google.com/assets/colab-badge.svg\" alt=\"Open In Colab\"/></a>"
      ]
    },
    {
      "cell_type": "markdown",
      "metadata": {
        "id": "oJN5A4eKyT2b"
      },
      "source": [
        "# Setup"
      ]
    },
    {
      "cell_type": "markdown",
      "metadata": {
        "id": "q9uCUBN6yT2c"
      },
      "source": [
        "Import a few common modules"
      ]
    },
    {
      "cell_type": "code",
      "metadata": {
        "id": "R1uvP5vDyT2d",
        "colab": {
          "base_uri": "https://localhost:8080/"
        },
        "outputId": "a6b32265-7be2-4796-c239-72a3888494e6"
      },
      "source": [
        "#CODE for points = 1\n",
        "# import sklearn, numpy, os\n",
        "\n",
        "# Python ≥3.5 is required\n",
        "import sys\n",
        "assert sys.version_info >= (3, 5)\n",
        "\n",
        "# Scikit-Learn ≥0.20 is required\n",
        "\n",
        "# TensorFlow ≥2.0 is required\n",
        "import tensorflow as tf\n",
        "from tensorflow import keras\n",
        "assert tf.__version__ >= \"2.0\"\n",
        "\n",
        "%load_ext tensorboard\n",
        "\n",
        "\n",
        "\n",
        "# to make this notebook's output stable across runs\n",
        "import numpy as np\n",
        "np.random.seed(42)\n"
      ],
      "execution_count": 63,
      "outputs": [
        {
          "output_type": "stream",
          "name": "stdout",
          "text": [
            "The tensorboard extension is already loaded. To reload it, use:\n",
            "  %reload_ext tensorboard\n"
          ]
        }
      ]
    },
    {
      "cell_type": "markdown",
      "metadata": {
        "id": "jzMYiB0EyT2f"
      },
      "source": [
        "# Vanishing/Exploding Gradients Problem"
      ]
    },
    {
      "cell_type": "code",
      "metadata": {
        "id": "XFRcZCHRyT2g"
      },
      "source": [
        "def logit(z):\n",
        "    return 1 / (1 + np.exp(-z))"
      ],
      "execution_count": 64,
      "outputs": []
    },
    {
      "cell_type": "code",
      "metadata": {
        "id": "Q14TCXqxyT2g"
      },
      "source": [
        "z = np.linspace(-5, 5, 200)"
      ],
      "execution_count": 65,
      "outputs": []
    },
    {
      "cell_type": "markdown",
      "metadata": {
        "id": "jf45uObOyT2i"
      },
      "source": [
        "## Xavier and He Initialization"
      ]
    },
    {
      "cell_type": "code",
      "metadata": {
        "id": "iQqSsCCxyT2j",
        "colab": {
          "base_uri": "https://localhost:8080/"
        },
        "outputId": "1d9c0bda-d6ae-49f6-bacf-6ab6191ef501"
      },
      "source": [
        "#CODE for points = 1\n",
        "# set activation to relu and kernel initializer to he_normal\n",
        "\n",
        "keras.layers.Dense(10, activation=\"relu\", kernel_initializer=\"he_normal\")"
      ],
      "execution_count": 66,
      "outputs": [
        {
          "output_type": "execute_result",
          "data": {
            "text/plain": [
              "<keras.layers.core.dense.Dense at 0x7f335cedaa90>"
            ]
          },
          "metadata": {},
          "execution_count": 66
        }
      ]
    },
    {
      "cell_type": "markdown",
      "metadata": {
        "id": "VKeun9hyyT2k"
      },
      "source": [
        "### Leaky ReLU"
      ]
    },
    {
      "cell_type": "code",
      "metadata": {
        "id": "c1HuzTv0yT2k"
      },
      "source": [
        "#CODE for points = 1\n",
        "\n",
        "# remember α is the hyperparameter that defines how much the function “leaks”\n",
        "# set the value of alpha, use the value typically set\n",
        "\n",
        "def leaky_relu(z, alpha=0.01):\n",
        "    return np.maximum(alpha*z, z)"
      ],
      "execution_count": 67,
      "outputs": []
    },
    {
      "cell_type": "markdown",
      "metadata": {
        "id": "WUD0kkZdyT2l"
      },
      "source": [
        "Let's train a neural network on Fashion MNIST using the Leaky ReLU:"
      ]
    },
    {
      "cell_type": "code",
      "metadata": {
        "id": "-ijUxHfhyT2m"
      },
      "source": [
        "#CODE for points = 1\n",
        "#load MNIST dataset from keras\n",
        "\n",
        "(X_train_full, y_train_full), (X_test, y_test) = keras.datasets.mnist.load_data()\n",
        "X_train_full = X_train_full / 255.0\n",
        "X_test = X_test / 255.0\n",
        "X_valid, X_train = X_train_full[:5000], X_train_full[5000:]\n",
        "y_valid, y_train = y_train_full[:5000], y_train_full[5000:]"
      ],
      "execution_count": 68,
      "outputs": []
    },
    {
      "cell_type": "code",
      "metadata": {
        "id": "GDnaASswyT2m"
      },
      "source": [
        "#CODE for points = 1\n",
        "\n",
        "# initialize kernel_initializer to \"he_normal\" and activation function to softmax\n",
        "\n",
        "tf.random.set_seed(42)\n",
        "np.random.seed(42)\n",
        "\n",
        "model = keras.models.Sequential([\n",
        "    keras.layers.Flatten(input_shape=[28, 28]),\n",
        "    keras.layers.Dense(300, kernel_initializer=\"he_normal\"),\n",
        "    keras.layers.LeakyReLU(),\n",
        "    keras.layers.Dense(100, kernel_initializer=\"he_normal\"),\n",
        "    keras.layers.LeakyReLU(),\n",
        "    keras.layers.Dense(10, activation=\"softmax\")\n",
        "])"
      ],
      "execution_count": 69,
      "outputs": []
    },
    {
      "cell_type": "code",
      "metadata": {
        "id": "2qfd7pXdyT2m"
      },
      "source": [
        "model.compile(loss=\"sparse_categorical_crossentropy\",\n",
        "              optimizer=keras.optimizers.SGD(learning_rate=1e-3),\n",
        "              metrics=[\"accuracy\"])"
      ],
      "execution_count": 70,
      "outputs": []
    },
    {
      "cell_type": "code",
      "metadata": {
        "scrolled": true,
        "id": "nEyLFBtmyT2m",
        "colab": {
          "base_uri": "https://localhost:8080/"
        },
        "outputId": "4405d199-d1ba-4566-c70c-ed012383d048"
      },
      "source": [
        "history = model.fit(X_train, y_train, epochs=5,\n",
        "                    validation_data=(X_valid, y_valid))"
      ],
      "execution_count": 71,
      "outputs": [
        {
          "output_type": "stream",
          "name": "stdout",
          "text": [
            "Epoch 1/5\n",
            "1719/1719 [==============================] - 7s 4ms/step - loss: 1.5275 - accuracy: 0.5970 - val_loss: 0.9444 - val_accuracy: 0.7980\n",
            "Epoch 2/5\n",
            "1719/1719 [==============================] - 6s 4ms/step - loss: 0.7465 - accuracy: 0.8287 - val_loss: 0.5868 - val_accuracy: 0.8596\n",
            "Epoch 3/5\n",
            "1719/1719 [==============================] - 6s 4ms/step - loss: 0.5412 - accuracy: 0.8624 - val_loss: 0.4685 - val_accuracy: 0.8834\n",
            "Epoch 4/5\n",
            "1719/1719 [==============================] - 6s 4ms/step - loss: 0.4591 - accuracy: 0.8771 - val_loss: 0.4104 - val_accuracy: 0.8940\n",
            "Epoch 5/5\n",
            "1719/1719 [==============================] - 6s 4ms/step - loss: 0.4142 - accuracy: 0.8869 - val_loss: 0.3758 - val_accuracy: 0.9006\n"
          ]
        }
      ]
    },
    {
      "cell_type": "markdown",
      "metadata": {
        "id": "wdphkBRoyT2s"
      },
      "source": [
        "Now look at what happens if we try to use the ReLU activation function instead:"
      ]
    },
    {
      "cell_type": "code",
      "metadata": {
        "id": "szqns6OGyT2s"
      },
      "source": [
        "np.random.seed(42)\n",
        "tf.random.set_seed(42)"
      ],
      "execution_count": 72,
      "outputs": []
    },
    {
      "cell_type": "code",
      "metadata": {
        "id": "Zu5g45C5yT2s"
      },
      "source": [
        "model = keras.models.Sequential()\n",
        "model.add(keras.layers.Flatten(input_shape=[28, 28]))\n",
        "\n",
        "model.add(keras.layers.Dense(300, activation=\"relu\", kernel_initializer=\"he_normal\"))\n",
        "\n",
        "for layer in range(99):\n",
        "    model.add(keras.layers.Dense(100, activation=\"relu\", kernel_initializer=\"he_normal\"))\n",
        "\n",
        "model.add(keras.layers.Dense(10, activation=\"softmax\"))"
      ],
      "execution_count": 73,
      "outputs": []
    },
    {
      "cell_type": "code",
      "metadata": {
        "id": "b8ziJs2PyT2s"
      },
      "source": [
        "model.compile(loss=\"sparse_categorical_crossentropy\",\n",
        "              optimizer=keras.optimizers.SGD(learning_rate=1e-3),\n",
        "              metrics=[\"accuracy\"])"
      ],
      "execution_count": 74,
      "outputs": []
    },
    {
      "cell_type": "code",
      "metadata": {
        "id": "1ATK0oSHyT2s",
        "colab": {
          "base_uri": "https://localhost:8080/"
        },
        "outputId": "e771e7ac-7cdc-4da5-b099-a8259e2f83a7"
      },
      "source": [
        "history = model.fit(X_train, y_train, epochs=5,\n",
        "                    validation_data=(X_valid, y_valid))"
      ],
      "execution_count": 75,
      "outputs": [
        {
          "output_type": "stream",
          "name": "stdout",
          "text": [
            "Epoch 1/5\n",
            "1719/1719 [==============================] - 32s 17ms/step - loss: 1.9800 - accuracy: 0.2251 - val_loss: 1.6367 - val_accuracy: 0.3726\n",
            "Epoch 2/5\n",
            "1719/1719 [==============================] - 29s 17ms/step - loss: 1.5103 - accuracy: 0.3842 - val_loss: 1.1821 - val_accuracy: 0.5394\n",
            "Epoch 3/5\n",
            "1719/1719 [==============================] - 29s 17ms/step - loss: 1.1771 - accuracy: 0.5372 - val_loss: 0.9573 - val_accuracy: 0.6404\n",
            "Epoch 4/5\n",
            "1719/1719 [==============================] - 29s 17ms/step - loss: 1.0671 - accuracy: 0.5960 - val_loss: 0.9300 - val_accuracy: 0.6648\n",
            "Epoch 5/5\n",
            "1719/1719 [==============================] - 29s 17ms/step - loss: 0.8429 - accuracy: 0.7048 - val_loss: 0.7297 - val_accuracy: 0.7498\n"
          ]
        }
      ]
    },
    {
      "cell_type": "markdown",
      "metadata": {
        "id": "Zsa-9WY5yT2t"
      },
      "source": [
        "Not great at all, we suffered from the vanishing/exploding gradients problem."
      ]
    },
    {
      "cell_type": "markdown",
      "metadata": {
        "id": "NODlyFfnyT2t"
      },
      "source": [
        "# Batch Normalization"
      ]
    },
    {
      "cell_type": "code",
      "metadata": {
        "id": "IANuTmvzyT2t"
      },
      "source": [
        "model = keras.models.Sequential([\n",
        "    keras.layers.Flatten(input_shape=[28, 28]),\n",
        "    keras.layers.BatchNormalization(),\n",
        "    keras.layers.Dense(300, activation=\"relu\"),\n",
        "    keras.layers.BatchNormalization(),\n",
        "    keras.layers.Dense(100, activation=\"relu\"),\n",
        "    keras.layers.BatchNormalization(),\n",
        "    keras.layers.Dense(10, activation=\"softmax\")\n",
        "])"
      ],
      "execution_count": 76,
      "outputs": []
    },
    {
      "cell_type": "code",
      "metadata": {
        "id": "jpkrSpmOyT2t",
        "colab": {
          "base_uri": "https://localhost:8080/"
        },
        "outputId": "b78651ac-de38-4175-ae6c-ed901b1d9892"
      },
      "source": [
        "model.summary()"
      ],
      "execution_count": 77,
      "outputs": [
        {
          "output_type": "stream",
          "name": "stdout",
          "text": [
            "Model: \"sequential_20\"\n",
            "_________________________________________________________________\n",
            " Layer (type)                Output Shape              Param #   \n",
            "=================================================================\n",
            " flatten_20 (Flatten)        (None, 784)               0         \n",
            "                                                                 \n",
            " batch_normalization_12 (Bat  (None, 784)              3136      \n",
            " chNormalization)                                                \n",
            "                                                                 \n",
            " dense_358 (Dense)           (None, 300)               235500    \n",
            "                                                                 \n",
            " batch_normalization_13 (Bat  (None, 300)              1200      \n",
            " chNormalization)                                                \n",
            "                                                                 \n",
            " dense_359 (Dense)           (None, 100)               30100     \n",
            "                                                                 \n",
            " batch_normalization_14 (Bat  (None, 100)              400       \n",
            " chNormalization)                                                \n",
            "                                                                 \n",
            " dense_360 (Dense)           (None, 10)                1010      \n",
            "                                                                 \n",
            "=================================================================\n",
            "Total params: 271,346\n",
            "Trainable params: 268,978\n",
            "Non-trainable params: 2,368\n",
            "_________________________________________________________________\n"
          ]
        }
      ]
    },
    {
      "cell_type": "code",
      "metadata": {
        "id": "SeHquM9ByT2t",
        "colab": {
          "base_uri": "https://localhost:8080/"
        },
        "outputId": "af6661e3-c962-45d1-993a-40df3e5ea779"
      },
      "source": [
        "bn1 = model.layers[1]\n",
        "[(var.name, var.trainable) for var in bn1.variables]"
      ],
      "execution_count": 78,
      "outputs": [
        {
          "output_type": "execute_result",
          "data": {
            "text/plain": [
              "[('batch_normalization_12/gamma:0', True),\n",
              " ('batch_normalization_12/beta:0', True),\n",
              " ('batch_normalization_12/moving_mean:0', False),\n",
              " ('batch_normalization_12/moving_variance:0', False)]"
            ]
          },
          "metadata": {},
          "execution_count": 78
        }
      ]
    },
    {
      "cell_type": "code",
      "metadata": {
        "id": "nzC0HW2byT2u"
      },
      "source": [
        "#bn1.updates #deprecated"
      ],
      "execution_count": 79,
      "outputs": []
    },
    {
      "cell_type": "code",
      "metadata": {
        "id": "wsaT9GAeyT2u"
      },
      "source": [
        "model.compile(loss=\"sparse_categorical_crossentropy\",\n",
        "              optimizer=keras.optimizers.SGD(learning_rate=1e-3),\n",
        "              metrics=[\"accuracy\"])"
      ],
      "execution_count": 80,
      "outputs": []
    },
    {
      "cell_type": "code",
      "metadata": {
        "id": "71G_x6M7yT2u",
        "colab": {
          "base_uri": "https://localhost:8080/"
        },
        "outputId": "a39d0ae6-ab04-451c-d75b-dcf31680f64d"
      },
      "source": [
        "history = model.fit(X_train, y_train, epochs=5,\n",
        "                    validation_data=(X_valid, y_valid))"
      ],
      "execution_count": 81,
      "outputs": [
        {
          "output_type": "stream",
          "name": "stdout",
          "text": [
            "Epoch 1/5\n",
            "1719/1719 [==============================] - 11s 6ms/step - loss: 0.8619 - accuracy: 0.7335 - val_loss: 0.4687 - val_accuracy: 0.8716\n",
            "Epoch 2/5\n",
            "1719/1719 [==============================] - 10s 6ms/step - loss: 0.4346 - accuracy: 0.8734 - val_loss: 0.3494 - val_accuracy: 0.9038\n",
            "Epoch 3/5\n",
            "1719/1719 [==============================] - 11s 6ms/step - loss: 0.3559 - accuracy: 0.8965 - val_loss: 0.3001 - val_accuracy: 0.9174\n",
            "Epoch 4/5\n",
            "1719/1719 [==============================] - 10s 6ms/step - loss: 0.3115 - accuracy: 0.9101 - val_loss: 0.2695 - val_accuracy: 0.9242\n",
            "Epoch 5/5\n",
            "1719/1719 [==============================] - 10s 6ms/step - loss: 0.2815 - accuracy: 0.9175 - val_loss: 0.2444 - val_accuracy: 0.9306\n"
          ]
        }
      ]
    },
    {
      "cell_type": "markdown",
      "metadata": {
        "id": "MVtHTRXPyT2u"
      },
      "source": [
        "Sometimes applying BN before the activation function works better (there's a debate on this topic). Moreover, the layer before a `BatchNormalization` layer does not need to have bias terms, since the `BatchNormalization` layer some as well, it would be a waste of parameters, so you can set `use_bias=False` when creating those layers:"
      ]
    },
    {
      "cell_type": "code",
      "metadata": {
        "id": "AOHLeX3gyT2v"
      },
      "source": [
        "model = keras.models.Sequential([\n",
        "    keras.layers.Flatten(input_shape=[28, 28]),\n",
        "    keras.layers.BatchNormalization(),\n",
        "    keras.layers.Dense(300, use_bias=False),\n",
        "    keras.layers.BatchNormalization(),\n",
        "    keras.layers.Activation(\"relu\"),\n",
        "    keras.layers.Dense(100, use_bias=False),\n",
        "    keras.layers.BatchNormalization(),\n",
        "    keras.layers.Activation(\"relu\"),\n",
        "    keras.layers.Dense(10, activation=\"softmax\")\n",
        "])"
      ],
      "execution_count": 82,
      "outputs": []
    },
    {
      "cell_type": "code",
      "metadata": {
        "id": "xMcbKZ0OyT2v"
      },
      "source": [
        "model.compile(loss=\"sparse_categorical_crossentropy\",\n",
        "              optimizer=keras.optimizers.SGD(learning_rate=1e-3),\n",
        "              metrics=[\"accuracy\"])"
      ],
      "execution_count": 83,
      "outputs": []
    },
    {
      "cell_type": "code",
      "metadata": {
        "id": "gGco3TNkyT2v",
        "colab": {
          "base_uri": "https://localhost:8080/"
        },
        "outputId": "ac24c89f-2033-434b-9a4c-241ebbc4c46d"
      },
      "source": [
        "history = model.fit(X_train, y_train, epochs=5,\n",
        "                    validation_data=(X_valid, y_valid))"
      ],
      "execution_count": 84,
      "outputs": [
        {
          "output_type": "stream",
          "name": "stdout",
          "text": [
            "Epoch 1/5\n",
            "1719/1719 [==============================] - 12s 6ms/step - loss: 1.1288 - accuracy: 0.6813 - val_loss: 0.6171 - val_accuracy: 0.8486\n",
            "Epoch 2/5\n",
            "1719/1719 [==============================] - 10s 6ms/step - loss: 0.5778 - accuracy: 0.8548 - val_loss: 0.4354 - val_accuracy: 0.8920\n",
            "Epoch 3/5\n",
            "1719/1719 [==============================] - 10s 6ms/step - loss: 0.4590 - accuracy: 0.8818 - val_loss: 0.3585 - val_accuracy: 0.9108\n",
            "Epoch 4/5\n",
            "1719/1719 [==============================] - 10s 6ms/step - loss: 0.3954 - accuracy: 0.8957 - val_loss: 0.3152 - val_accuracy: 0.9184\n",
            "Epoch 5/5\n",
            "1719/1719 [==============================] - 10s 6ms/step - loss: 0.3552 - accuracy: 0.9033 - val_loss: 0.2840 - val_accuracy: 0.9252\n"
          ]
        }
      ]
    },
    {
      "cell_type": "markdown",
      "metadata": {
        "id": "gZcjpY7TyT2z"
      },
      "source": [
        "# Faster Optimizers"
      ]
    },
    {
      "cell_type": "markdown",
      "metadata": {
        "id": "QzvjID6IyT20"
      },
      "source": [
        "## Momentum optimization"
      ]
    },
    {
      "cell_type": "code",
      "metadata": {
        "id": "W_8slx2ByT20"
      },
      "source": [
        "#CODE for points = 1\n",
        "# initialize lr and momentum to typical values\n",
        "\n",
        "optimizer = keras.optimizers.SGD(learning_rate=0.1, momentum=0.9)"
      ],
      "execution_count": 85,
      "outputs": []
    },
    {
      "cell_type": "markdown",
      "metadata": {
        "id": "QTF0A3-oyT20"
      },
      "source": [
        "## Nesterov Accelerated Gradient"
      ]
    },
    {
      "cell_type": "code",
      "metadata": {
        "id": "piqxQeEwyT21"
      },
      "source": [
        "#CODE for points = 1\n",
        "# initialize lr and momentum to typical values. Set nesterov so that it is used\n",
        "\n",
        "optimizer = keras.optimizers.SGD(learning_rate=0.01, momentum=0.9, nesterov=True)"
      ],
      "execution_count": 86,
      "outputs": []
    },
    {
      "cell_type": "markdown",
      "metadata": {
        "id": "G7VG-ueuyT2-"
      },
      "source": [
        "# Avoiding Overfitting Through Regularization"
      ]
    },
    {
      "cell_type": "markdown",
      "metadata": {
        "id": "to1x3hcIyT2-"
      },
      "source": [
        "## $\\ell_1$ and $\\ell_2$ regularization"
      ]
    },
    {
      "cell_type": "code",
      "metadata": {
        "id": "saUIENUUyT2-"
      },
      "source": [
        "#CODE for points = 0.5\n",
        "\n",
        "# Use syntax for assigning l2 regularization with a factor 0.01 as given here - https://keras.io/api/layers/regularizers/\n",
        "\n",
        "layer = keras.layers.Dense(100, activation=\"elu\",\n",
        "                           kernel_initializer=\"he_normal\",\n",
        "                           kernel_regularizer=keras.regularizers.l2(0.01))"
      ],
      "execution_count": 87,
      "outputs": []
    },
    {
      "cell_type": "code",
      "metadata": {
        "id": "EBqxkuQCyT2-",
        "colab": {
          "base_uri": "https://localhost:8080/"
        },
        "outputId": "04ed3471-0437-4ce1-9464-71712e91863a"
      },
      "source": [
        "#CODE for points = 1\n",
        "\n",
        "# Use syntax for assigning l2 regularization with a factor 0.01 as given here - https://keras.io/api/layers/regularizers/\n",
        "# nadam optimizer\n",
        "\n",
        "model = keras.models.Sequential([\n",
        "    keras.layers.Flatten(input_shape=[28, 28]),\n",
        "    keras.layers.Dense(300, activation=\"elu\",\n",
        "                       kernel_initializer=\"he_normal\",\n",
        "                       kernel_regularizer=keras.regularizers.l2(0.01)),\n",
        "    keras.layers.Dense(100, activation=\"elu\",\n",
        "                       kernel_initializer=\"he_normal\",\n",
        "                       kernel_regularizer=keras.regularizers.l2(0.01)),\n",
        "    keras.layers.Dense(10, activation=\"softmax\",\n",
        "                       kernel_regularizer=keras.regularizers.l2(0.01))\n",
        "])\n",
        "\n",
        "model.compile(loss=\"sparse_categorical_crossentropy\", optimizer=keras.optimizers.Nadam(), metrics=[\"accuracy\"])\n",
        "n_epochs = 2\n",
        "history = model.fit(X_train, y_train, epochs=n_epochs,\n",
        "                    validation_data=(X_valid, y_valid))"
      ],
      "execution_count": 88,
      "outputs": [
        {
          "output_type": "stream",
          "name": "stdout",
          "text": [
            "Epoch 1/2\n",
            "1719/1719 [==============================] - 15s 8ms/step - loss: 1.2697 - accuracy: 0.8755 - val_loss: 0.8163 - val_accuracy: 0.8900\n",
            "Epoch 2/2\n",
            "1719/1719 [==============================] - 14s 8ms/step - loss: 0.8188 - accuracy: 0.8848 - val_loss: 0.7755 - val_accuracy: 0.9020\n"
          ]
        }
      ]
    },
    {
      "cell_type": "code",
      "metadata": {
        "id": "IyzDPdgbyT2-"
      },
      "source": [
        "#CODE for points = .5\n",
        "\n",
        "# Use syntax for assigning l2 regularization with a factor 0.01 as given here - https://keras.io/api/layers/regularizers/\n",
        "\n",
        "from functools import partial\n",
        "\n",
        "RegularizedDense = partial(keras.layers.Dense,\n",
        "                           activation=\"elu\",\n",
        "                           kernel_initializer=\"he_normal\",\n",
        "                           kernel_regularizer=keras.regularizers.l2(0.01))"
      ],
      "execution_count": 89,
      "outputs": []
    },
    {
      "cell_type": "code",
      "metadata": {
        "id": "oW0OIFKABTNZ",
        "outputId": "28cc2fb1-6b2d-496b-fece-1971c0f22e8a",
        "colab": {
          "base_uri": "https://localhost:8080/"
        }
      },
      "source": [
        "#CODE for points = 1\n",
        "\n",
        "# activation function initialized as softmax\n",
        "# nadam optimizer\n",
        "\n",
        "\n",
        "model = keras.models.Sequential([\n",
        "    keras.layers.Flatten(input_shape=[28, 28]),\n",
        "    RegularizedDense(300),\n",
        "    RegularizedDense(100),\n",
        "    RegularizedDense(10, activation=\"softmax\")\n",
        "])\n",
        "model.compile(loss=\"sparse_categorical_crossentropy\", optimizer=tf.keras.optimizers.Nadam(), metrics=[\"accuracy\"])\n",
        "n_epochs = 2\n",
        "history = model.fit(X_train, y_train, epochs=n_epochs,\n",
        "                    validation_data=(X_valid, y_valid))\n"
      ],
      "execution_count": 90,
      "outputs": [
        {
          "output_type": "stream",
          "name": "stdout",
          "text": [
            "Epoch 1/2\n",
            "1719/1719 [==============================] - 15s 8ms/step - loss: 1.2850 - accuracy: 0.8770 - val_loss: 0.8176 - val_accuracy: 0.8892\n",
            "Epoch 2/2\n",
            "1719/1719 [==============================] - 14s 8ms/step - loss: 0.8199 - accuracy: 0.8854 - val_loss: 0.7770 - val_accuracy: 0.9004\n"
          ]
        }
      ]
    }
  ]
}