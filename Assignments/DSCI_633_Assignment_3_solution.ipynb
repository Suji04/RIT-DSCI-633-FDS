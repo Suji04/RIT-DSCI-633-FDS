{
  "nbformat": 4,
  "nbformat_minor": 0,
  "metadata": {
    "colab": {
      "name": "DSCI 633 Assignment 3.ipynb",
      "provenance": [],
      "collapsed_sections": [],
      "authorship_tag": "ABX9TyNS0EB0WjjHkz2zLYlulLS0",
      "include_colab_link": true
    },
    "kernelspec": {
      "name": "python3",
      "display_name": "Python 3"
    },
    "language_info": {
      "name": "python"
    }
  },
  "cells": [
    {
      "cell_type": "markdown",
      "metadata": {
        "id": "view-in-github",
        "colab_type": "text"
      },
      "source": [
        "<a href=\"https://colab.research.google.com/github/Suji04/RIT-DSCI-633-FDS/blob/main/Assignments/DSCI_633_Assignment_3_solution.ipynb\" target=\"_parent\"><img src=\"https://colab.research.google.com/assets/colab-badge.svg\" alt=\"Open In Colab\"/></a>"
      ]
    },
    {
      "cell_type": "markdown",
      "metadata": {
        "id": "_lHOJosd0H1F"
      },
      "source": [
        "## Instructions to run this notebook:\n",
        "Upload \"train.csv\", \"train.csv\" and \"gender_submission.csv\" then run all cells."
      ]
    },
    {
      "cell_type": "code",
      "metadata": {
        "id": "iAzG_yeZT2z8"
      },
      "source": [
        "import pandas as pd\n",
        "import numpy as np\n",
        "import matplotlib.pyplot as plt\n",
        "import seaborn as sns"
      ],
      "execution_count": 1,
      "outputs": []
    },
    {
      "cell_type": "code",
      "metadata": {
        "colab": {
          "base_uri": "https://localhost:8080/",
          "height": 407
        },
        "id": "RoS4OIg6wha9",
        "outputId": "293759ed-71fe-4ae5-be3c-2c7e190e4fa7"
      },
      "source": [
        "train_data = pd.read_csv(\"train.csv\")\n",
        "train_data.head(10)"
      ],
      "execution_count": 2,
      "outputs": [
        {
          "output_type": "execute_result",
          "data": {
            "text/html": [
              "<div>\n",
              "<style scoped>\n",
              "    .dataframe tbody tr th:only-of-type {\n",
              "        vertical-align: middle;\n",
              "    }\n",
              "\n",
              "    .dataframe tbody tr th {\n",
              "        vertical-align: top;\n",
              "    }\n",
              "\n",
              "    .dataframe thead th {\n",
              "        text-align: right;\n",
              "    }\n",
              "</style>\n",
              "<table border=\"1\" class=\"dataframe\">\n",
              "  <thead>\n",
              "    <tr style=\"text-align: right;\">\n",
              "      <th></th>\n",
              "      <th>PassengerId</th>\n",
              "      <th>Survived</th>\n",
              "      <th>Pclass</th>\n",
              "      <th>Name</th>\n",
              "      <th>Sex</th>\n",
              "      <th>Age</th>\n",
              "      <th>SibSp</th>\n",
              "      <th>Parch</th>\n",
              "      <th>Ticket</th>\n",
              "      <th>Fare</th>\n",
              "      <th>Cabin</th>\n",
              "      <th>Embarked</th>\n",
              "    </tr>\n",
              "  </thead>\n",
              "  <tbody>\n",
              "    <tr>\n",
              "      <th>0</th>\n",
              "      <td>1</td>\n",
              "      <td>0</td>\n",
              "      <td>3</td>\n",
              "      <td>Braund, Mr. Owen Harris</td>\n",
              "      <td>male</td>\n",
              "      <td>22.0</td>\n",
              "      <td>1</td>\n",
              "      <td>0</td>\n",
              "      <td>A/5 21171</td>\n",
              "      <td>7.2500</td>\n",
              "      <td>NaN</td>\n",
              "      <td>S</td>\n",
              "    </tr>\n",
              "    <tr>\n",
              "      <th>1</th>\n",
              "      <td>2</td>\n",
              "      <td>1</td>\n",
              "      <td>1</td>\n",
              "      <td>Cumings, Mrs. John Bradley (Florence Briggs Th...</td>\n",
              "      <td>female</td>\n",
              "      <td>38.0</td>\n",
              "      <td>1</td>\n",
              "      <td>0</td>\n",
              "      <td>PC 17599</td>\n",
              "      <td>71.2833</td>\n",
              "      <td>C85</td>\n",
              "      <td>C</td>\n",
              "    </tr>\n",
              "    <tr>\n",
              "      <th>2</th>\n",
              "      <td>3</td>\n",
              "      <td>1</td>\n",
              "      <td>3</td>\n",
              "      <td>Heikkinen, Miss. Laina</td>\n",
              "      <td>female</td>\n",
              "      <td>26.0</td>\n",
              "      <td>0</td>\n",
              "      <td>0</td>\n",
              "      <td>STON/O2. 3101282</td>\n",
              "      <td>7.9250</td>\n",
              "      <td>NaN</td>\n",
              "      <td>S</td>\n",
              "    </tr>\n",
              "    <tr>\n",
              "      <th>3</th>\n",
              "      <td>4</td>\n",
              "      <td>1</td>\n",
              "      <td>1</td>\n",
              "      <td>Futrelle, Mrs. Jacques Heath (Lily May Peel)</td>\n",
              "      <td>female</td>\n",
              "      <td>35.0</td>\n",
              "      <td>1</td>\n",
              "      <td>0</td>\n",
              "      <td>113803</td>\n",
              "      <td>53.1000</td>\n",
              "      <td>C123</td>\n",
              "      <td>S</td>\n",
              "    </tr>\n",
              "    <tr>\n",
              "      <th>4</th>\n",
              "      <td>5</td>\n",
              "      <td>0</td>\n",
              "      <td>3</td>\n",
              "      <td>Allen, Mr. William Henry</td>\n",
              "      <td>male</td>\n",
              "      <td>35.0</td>\n",
              "      <td>0</td>\n",
              "      <td>0</td>\n",
              "      <td>373450</td>\n",
              "      <td>8.0500</td>\n",
              "      <td>NaN</td>\n",
              "      <td>S</td>\n",
              "    </tr>\n",
              "    <tr>\n",
              "      <th>5</th>\n",
              "      <td>6</td>\n",
              "      <td>0</td>\n",
              "      <td>3</td>\n",
              "      <td>Moran, Mr. James</td>\n",
              "      <td>male</td>\n",
              "      <td>NaN</td>\n",
              "      <td>0</td>\n",
              "      <td>0</td>\n",
              "      <td>330877</td>\n",
              "      <td>8.4583</td>\n",
              "      <td>NaN</td>\n",
              "      <td>Q</td>\n",
              "    </tr>\n",
              "    <tr>\n",
              "      <th>6</th>\n",
              "      <td>7</td>\n",
              "      <td>0</td>\n",
              "      <td>1</td>\n",
              "      <td>McCarthy, Mr. Timothy J</td>\n",
              "      <td>male</td>\n",
              "      <td>54.0</td>\n",
              "      <td>0</td>\n",
              "      <td>0</td>\n",
              "      <td>17463</td>\n",
              "      <td>51.8625</td>\n",
              "      <td>E46</td>\n",
              "      <td>S</td>\n",
              "    </tr>\n",
              "    <tr>\n",
              "      <th>7</th>\n",
              "      <td>8</td>\n",
              "      <td>0</td>\n",
              "      <td>3</td>\n",
              "      <td>Palsson, Master. Gosta Leonard</td>\n",
              "      <td>male</td>\n",
              "      <td>2.0</td>\n",
              "      <td>3</td>\n",
              "      <td>1</td>\n",
              "      <td>349909</td>\n",
              "      <td>21.0750</td>\n",
              "      <td>NaN</td>\n",
              "      <td>S</td>\n",
              "    </tr>\n",
              "    <tr>\n",
              "      <th>8</th>\n",
              "      <td>9</td>\n",
              "      <td>1</td>\n",
              "      <td>3</td>\n",
              "      <td>Johnson, Mrs. Oscar W (Elisabeth Vilhelmina Berg)</td>\n",
              "      <td>female</td>\n",
              "      <td>27.0</td>\n",
              "      <td>0</td>\n",
              "      <td>2</td>\n",
              "      <td>347742</td>\n",
              "      <td>11.1333</td>\n",
              "      <td>NaN</td>\n",
              "      <td>S</td>\n",
              "    </tr>\n",
              "    <tr>\n",
              "      <th>9</th>\n",
              "      <td>10</td>\n",
              "      <td>1</td>\n",
              "      <td>2</td>\n",
              "      <td>Nasser, Mrs. Nicholas (Adele Achem)</td>\n",
              "      <td>female</td>\n",
              "      <td>14.0</td>\n",
              "      <td>1</td>\n",
              "      <td>0</td>\n",
              "      <td>237736</td>\n",
              "      <td>30.0708</td>\n",
              "      <td>NaN</td>\n",
              "      <td>C</td>\n",
              "    </tr>\n",
              "  </tbody>\n",
              "</table>\n",
              "</div>"
            ],
            "text/plain": [
              "   PassengerId  Survived  Pclass  ...     Fare Cabin  Embarked\n",
              "0            1         0       3  ...   7.2500   NaN         S\n",
              "1            2         1       1  ...  71.2833   C85         C\n",
              "2            3         1       3  ...   7.9250   NaN         S\n",
              "3            4         1       1  ...  53.1000  C123         S\n",
              "4            5         0       3  ...   8.0500   NaN         S\n",
              "5            6         0       3  ...   8.4583   NaN         Q\n",
              "6            7         0       1  ...  51.8625   E46         S\n",
              "7            8         0       3  ...  21.0750   NaN         S\n",
              "8            9         1       3  ...  11.1333   NaN         S\n",
              "9           10         1       2  ...  30.0708   NaN         C\n",
              "\n",
              "[10 rows x 12 columns]"
            ]
          },
          "metadata": {},
          "execution_count": 2
        }
      ]
    },
    {
      "cell_type": "code",
      "metadata": {
        "colab": {
          "base_uri": "https://localhost:8080/",
          "height": 357
        },
        "id": "djaxIDdPwoPe",
        "outputId": "8df64054-5690-4f18-cf86-157cbe69c004"
      },
      "source": [
        "test_data = pd.read_csv(\"test.csv\")\n",
        "test_data.head(10)"
      ],
      "execution_count": 3,
      "outputs": [
        {
          "output_type": "execute_result",
          "data": {
            "text/html": [
              "<div>\n",
              "<style scoped>\n",
              "    .dataframe tbody tr th:only-of-type {\n",
              "        vertical-align: middle;\n",
              "    }\n",
              "\n",
              "    .dataframe tbody tr th {\n",
              "        vertical-align: top;\n",
              "    }\n",
              "\n",
              "    .dataframe thead th {\n",
              "        text-align: right;\n",
              "    }\n",
              "</style>\n",
              "<table border=\"1\" class=\"dataframe\">\n",
              "  <thead>\n",
              "    <tr style=\"text-align: right;\">\n",
              "      <th></th>\n",
              "      <th>PassengerId</th>\n",
              "      <th>Pclass</th>\n",
              "      <th>Name</th>\n",
              "      <th>Sex</th>\n",
              "      <th>Age</th>\n",
              "      <th>SibSp</th>\n",
              "      <th>Parch</th>\n",
              "      <th>Ticket</th>\n",
              "      <th>Fare</th>\n",
              "      <th>Cabin</th>\n",
              "      <th>Embarked</th>\n",
              "    </tr>\n",
              "  </thead>\n",
              "  <tbody>\n",
              "    <tr>\n",
              "      <th>0</th>\n",
              "      <td>892</td>\n",
              "      <td>3</td>\n",
              "      <td>Kelly, Mr. James</td>\n",
              "      <td>male</td>\n",
              "      <td>34.5</td>\n",
              "      <td>0</td>\n",
              "      <td>0</td>\n",
              "      <td>330911</td>\n",
              "      <td>7.8292</td>\n",
              "      <td>NaN</td>\n",
              "      <td>Q</td>\n",
              "    </tr>\n",
              "    <tr>\n",
              "      <th>1</th>\n",
              "      <td>893</td>\n",
              "      <td>3</td>\n",
              "      <td>Wilkes, Mrs. James (Ellen Needs)</td>\n",
              "      <td>female</td>\n",
              "      <td>47.0</td>\n",
              "      <td>1</td>\n",
              "      <td>0</td>\n",
              "      <td>363272</td>\n",
              "      <td>7.0000</td>\n",
              "      <td>NaN</td>\n",
              "      <td>S</td>\n",
              "    </tr>\n",
              "    <tr>\n",
              "      <th>2</th>\n",
              "      <td>894</td>\n",
              "      <td>2</td>\n",
              "      <td>Myles, Mr. Thomas Francis</td>\n",
              "      <td>male</td>\n",
              "      <td>62.0</td>\n",
              "      <td>0</td>\n",
              "      <td>0</td>\n",
              "      <td>240276</td>\n",
              "      <td>9.6875</td>\n",
              "      <td>NaN</td>\n",
              "      <td>Q</td>\n",
              "    </tr>\n",
              "    <tr>\n",
              "      <th>3</th>\n",
              "      <td>895</td>\n",
              "      <td>3</td>\n",
              "      <td>Wirz, Mr. Albert</td>\n",
              "      <td>male</td>\n",
              "      <td>27.0</td>\n",
              "      <td>0</td>\n",
              "      <td>0</td>\n",
              "      <td>315154</td>\n",
              "      <td>8.6625</td>\n",
              "      <td>NaN</td>\n",
              "      <td>S</td>\n",
              "    </tr>\n",
              "    <tr>\n",
              "      <th>4</th>\n",
              "      <td>896</td>\n",
              "      <td>3</td>\n",
              "      <td>Hirvonen, Mrs. Alexander (Helga E Lindqvist)</td>\n",
              "      <td>female</td>\n",
              "      <td>22.0</td>\n",
              "      <td>1</td>\n",
              "      <td>1</td>\n",
              "      <td>3101298</td>\n",
              "      <td>12.2875</td>\n",
              "      <td>NaN</td>\n",
              "      <td>S</td>\n",
              "    </tr>\n",
              "    <tr>\n",
              "      <th>5</th>\n",
              "      <td>897</td>\n",
              "      <td>3</td>\n",
              "      <td>Svensson, Mr. Johan Cervin</td>\n",
              "      <td>male</td>\n",
              "      <td>14.0</td>\n",
              "      <td>0</td>\n",
              "      <td>0</td>\n",
              "      <td>7538</td>\n",
              "      <td>9.2250</td>\n",
              "      <td>NaN</td>\n",
              "      <td>S</td>\n",
              "    </tr>\n",
              "    <tr>\n",
              "      <th>6</th>\n",
              "      <td>898</td>\n",
              "      <td>3</td>\n",
              "      <td>Connolly, Miss. Kate</td>\n",
              "      <td>female</td>\n",
              "      <td>30.0</td>\n",
              "      <td>0</td>\n",
              "      <td>0</td>\n",
              "      <td>330972</td>\n",
              "      <td>7.6292</td>\n",
              "      <td>NaN</td>\n",
              "      <td>Q</td>\n",
              "    </tr>\n",
              "    <tr>\n",
              "      <th>7</th>\n",
              "      <td>899</td>\n",
              "      <td>2</td>\n",
              "      <td>Caldwell, Mr. Albert Francis</td>\n",
              "      <td>male</td>\n",
              "      <td>26.0</td>\n",
              "      <td>1</td>\n",
              "      <td>1</td>\n",
              "      <td>248738</td>\n",
              "      <td>29.0000</td>\n",
              "      <td>NaN</td>\n",
              "      <td>S</td>\n",
              "    </tr>\n",
              "    <tr>\n",
              "      <th>8</th>\n",
              "      <td>900</td>\n",
              "      <td>3</td>\n",
              "      <td>Abrahim, Mrs. Joseph (Sophie Halaut Easu)</td>\n",
              "      <td>female</td>\n",
              "      <td>18.0</td>\n",
              "      <td>0</td>\n",
              "      <td>0</td>\n",
              "      <td>2657</td>\n",
              "      <td>7.2292</td>\n",
              "      <td>NaN</td>\n",
              "      <td>C</td>\n",
              "    </tr>\n",
              "    <tr>\n",
              "      <th>9</th>\n",
              "      <td>901</td>\n",
              "      <td>3</td>\n",
              "      <td>Davies, Mr. John Samuel</td>\n",
              "      <td>male</td>\n",
              "      <td>21.0</td>\n",
              "      <td>2</td>\n",
              "      <td>0</td>\n",
              "      <td>A/4 48871</td>\n",
              "      <td>24.1500</td>\n",
              "      <td>NaN</td>\n",
              "      <td>S</td>\n",
              "    </tr>\n",
              "  </tbody>\n",
              "</table>\n",
              "</div>"
            ],
            "text/plain": [
              "   PassengerId  Pclass  ... Cabin Embarked\n",
              "0          892       3  ...   NaN        Q\n",
              "1          893       3  ...   NaN        S\n",
              "2          894       2  ...   NaN        Q\n",
              "3          895       3  ...   NaN        S\n",
              "4          896       3  ...   NaN        S\n",
              "5          897       3  ...   NaN        S\n",
              "6          898       3  ...   NaN        Q\n",
              "7          899       2  ...   NaN        S\n",
              "8          900       3  ...   NaN        C\n",
              "9          901       3  ...   NaN        S\n",
              "\n",
              "[10 rows x 11 columns]"
            ]
          },
          "metadata": {},
          "execution_count": 3
        }
      ]
    },
    {
      "cell_type": "markdown",
      "metadata": {
        "id": "V4bDHtu2_fMQ"
      },
      "source": [
        "## Dealing with missing values"
      ]
    },
    {
      "cell_type": "code",
      "metadata": {
        "colab": {
          "base_uri": "https://localhost:8080/"
        },
        "id": "bz4pEtwpwq32",
        "outputId": "90d87ed4-f9d2-4158-bc7b-3e168371a36f"
      },
      "source": [
        "train_data.isnull().sum() * 100 / len(train_data)"
      ],
      "execution_count": 4,
      "outputs": [
        {
          "output_type": "execute_result",
          "data": {
            "text/plain": [
              "PassengerId     0.000000\n",
              "Survived        0.000000\n",
              "Pclass          0.000000\n",
              "Name            0.000000\n",
              "Sex             0.000000\n",
              "Age            19.865320\n",
              "SibSp           0.000000\n",
              "Parch           0.000000\n",
              "Ticket          0.000000\n",
              "Fare            0.000000\n",
              "Cabin          77.104377\n",
              "Embarked        0.224467\n",
              "dtype: float64"
            ]
          },
          "metadata": {},
          "execution_count": 4
        }
      ]
    },
    {
      "cell_type": "code",
      "metadata": {
        "colab": {
          "base_uri": "https://localhost:8080/"
        },
        "id": "dJTbrrFCwvR2",
        "outputId": "a798e7e4-53d2-4226-e11d-91ff50f3c7fe"
      },
      "source": [
        "test_data.isnull().sum() * 100 / len(test_data)"
      ],
      "execution_count": 5,
      "outputs": [
        {
          "output_type": "execute_result",
          "data": {
            "text/plain": [
              "PassengerId     0.000000\n",
              "Pclass          0.000000\n",
              "Name            0.000000\n",
              "Sex             0.000000\n",
              "Age            20.574163\n",
              "SibSp           0.000000\n",
              "Parch           0.000000\n",
              "Ticket          0.000000\n",
              "Fare            0.239234\n",
              "Cabin          78.229665\n",
              "Embarked        0.000000\n",
              "dtype: float64"
            ]
          },
          "metadata": {},
          "execution_count": 5
        }
      ]
    },
    {
      "cell_type": "markdown",
      "metadata": {
        "id": "WC2JnnX0rl7q"
      },
      "source": [
        "Cabin feature contains too many (over 77% ) missing values in both train and test set. Hence, we should discard this feature. But, Age, Fare and Embarked have a low percentage of missingness. So, we should try to fill these missing values."
      ]
    },
    {
      "cell_type": "code",
      "metadata": {
        "colab": {
          "base_uri": "https://localhost:8080/",
          "height": 350
        },
        "id": "wEa5FtcBxl2a",
        "outputId": "2ee25252-8916-46d8-d7b4-c8bd72222fb3"
      },
      "source": [
        "fig, ax = plt.subplots(figsize = (12, 5))\n",
        "ax1 = plt.subplot(1, 2, 1)\n",
        "sns.histplot(data=train_data, x=\"Age\", bins=10)\n",
        "ax1.title.set_text(\"(train data)\")\n",
        "\n",
        "ax2 = plt.subplot(1, 2, 2)\n",
        "sns.histplot(data=test_data, x=\"Age\", bins=10)\n",
        "ax2.title.set_text(\"(test data)\")"
      ],
      "execution_count": 6,
      "outputs": [
        {
          "output_type": "display_data",
          "data": {
            "image/png": "[encoded data removed]",
            "text/plain": [
              "<Figure size 864x360 with 2 Axes>"
            ]
          },
          "metadata": {
            "needs_background": "light"
          }
        }
      ]
    },
    {
      "cell_type": "markdown",
      "metadata": {
        "id": "0n7BEfkqDrVY"
      },
      "source": [
        "Age follows a skewed distribution in both dataset. Hence, we will replace the missing values with the median.\n",
        "\n",
        " "
      ]
    },
    {
      "cell_type": "code",
      "metadata": {
        "id": "DMVsRXz5ERR4"
      },
      "source": [
        "train_data[\"Age\"] = train_data[\"Age\"].fillna(train_data[\"Age\"].median())\n",
        "test_data[\"Age\"] = test_data[\"Age\"].fillna(train_data[\"Age\"].median())"
      ],
      "execution_count": 7,
      "outputs": []
    },
    {
      "cell_type": "code",
      "metadata": {
        "colab": {
          "base_uri": "https://localhost:8080/",
          "height": 350
        },
        "id": "JueKGUYIAU97",
        "outputId": "63e95c98-7469-49ad-866a-6910fd2f1931"
      },
      "source": [
        "fig, ax = plt.subplots(figsize = (12, 5))\n",
        "ax1 = plt.subplot(1, 2, 1)\n",
        "sns.histplot(data=train_data, x=\"Fare\", bins=10)\n",
        "ax1.title.set_text(\"(train data)\")\n",
        "\n",
        "ax2 = plt.subplot(1, 2, 2)\n",
        "sns.histplot(data=test_data, x=\"Fare\", bins=10)\n",
        "ax2.title.set_text(\"(test data)\")"
      ],
      "execution_count": 8,
      "outputs": [
        {
          "output_type": "display_data",
          "data": {
            "image/png": "[encoded data removed]",
            "text/plain": [
              "<Figure size 864x360 with 2 Axes>"
            ]
          },
          "metadata": {
            "needs_background": "light"
          }
        }
      ]
    },
    {
      "cell_type": "markdown",
      "metadata": {
        "id": "n4HhRJ6iFH2s"
      },
      "source": [
        "Fare also follows a skewed distribution in both dataset. Hence, we will replace the missing values with the median."
      ]
    },
    {
      "cell_type": "code",
      "metadata": {
        "id": "xqveug9SFV9D"
      },
      "source": [
        "test_data[\"Fare\"] = test_data[\"Fare\"].fillna(train_data[\"Fare\"].median())"
      ],
      "execution_count": 9,
      "outputs": []
    },
    {
      "cell_type": "code",
      "metadata": {
        "colab": {
          "base_uri": "https://localhost:8080/",
          "height": 350
        },
        "id": "oy_sGN5cwyOq",
        "outputId": "f179ddb3-471d-4349-9a61-a45399b40317"
      },
      "source": [
        "fig, ax = plt.subplots(figsize = (12, 5))\n",
        "ax1 = plt.subplot(1, 2, 1)\n",
        "sns.countplot(x=\"Embarked\", data=train_data)\n",
        "ax1.title.set_text(\"(train data)\")\n",
        "\n",
        "ax2 = plt.subplot(1, 2, 2)\n",
        "sns.countplot(x=\"Embarked\", data=test_data)\n",
        "ax2.title.set_text(\"(test data)\")"
      ],
      "execution_count": 10,
      "outputs": [
        {
          "output_type": "display_data",
          "data": {
            "image/png": "[encoded data removed]",
            "text/plain": [
              "<Figure size 864x360 with 2 Axes>"
            ]
          },
          "metadata": {
            "needs_background": "light"
          }
        }
      ]
    },
    {
      "cell_type": "markdown",
      "metadata": {
        "id": "nJX2wO-gHTXP"
      },
      "source": [
        "In both dataset, we have a majority class ('S'). So, we will replace the missing values with the mode (i.e. 'S')"
      ]
    },
    {
      "cell_type": "code",
      "metadata": {
        "id": "OwBFRK46HR_5"
      },
      "source": [
        "train_data[\"Embarked\"] = train_data[\"Embarked\"].fillna(train_data[\"Embarked\"].mode()[0])"
      ],
      "execution_count": 11,
      "outputs": []
    },
    {
      "cell_type": "markdown",
      "metadata": {
        "id": "lhXqEm02Kmbj"
      },
      "source": [
        "## Dealing with categorical variables\n",
        "We have got 3 categorical variables (Pclass, Sex and Embarked) in our dataset. We must encode these into numbers before feeding the model. Here, we are using one hot encoding."
      ]
    },
    {
      "cell_type": "code",
      "metadata": {
        "id": "bJrA-XEnxgqH"
      },
      "source": [
        "train_data = pd.get_dummies(train_data, columns=[\"Pclass\", \"Sex\", \"Embarked\"], drop_first=True)\n",
        "test_data = pd.get_dummies(test_data, columns=[\"Pclass\", \"Sex\", \"Embarked\"], drop_first=True)"
      ],
      "execution_count": 12,
      "outputs": []
    },
    {
      "cell_type": "markdown",
      "metadata": {
        "id": "HNhrgKjPNKPU"
      },
      "source": [
        "## Feature selection"
      ]
    },
    {
      "cell_type": "code",
      "metadata": {
        "colab": {
          "base_uri": "https://localhost:8080/"
        },
        "id": "4Q7QNsioxyDw",
        "outputId": "80db85ca-968f-4f17-ecc9-d6d8761783ec"
      },
      "source": [
        "train_data.columns.unique"
      ],
      "execution_count": 13,
      "outputs": [
        {
          "output_type": "execute_result",
          "data": {
            "text/plain": [
              "<bound method Index.unique of Index(['PassengerId', 'Survived', 'Name', 'Age', 'SibSp', 'Parch', 'Ticket',\n",
              "       'Fare', 'Cabin', 'Pclass_2', 'Pclass_3', 'Sex_male', 'Embarked_Q',\n",
              "       'Embarked_S'],\n",
              "      dtype='object')>"
            ]
          },
          "metadata": {},
          "execution_count": 13
        }
      ]
    },
    {
      "cell_type": "markdown",
      "metadata": {
        "id": "q12G50a6NWvV"
      },
      "source": [
        "The following features: PassengerId, Name, Ticket do not contain any useful informaion. Hence, we are going to discard these and take the remaining features for training our model."
      ]
    },
    {
      "cell_type": "markdown",
      "metadata": {
        "id": "ug_m2rgqPryG"
      },
      "source": [
        "## Building feature matrix and target vector"
      ]
    },
    {
      "cell_type": "code",
      "metadata": {
        "colab": {
          "base_uri": "https://localhost:8080/"
        },
        "id": "B-B8bsBLx0pJ",
        "outputId": "0d937978-e4b1-4f2d-ce78-869ca352a575"
      },
      "source": [
        "X  = train_data[[\"Age\", \"SibSp\", \"Parch\", \"Fare\", \"Pclass_2\", \"Pclass_3\", \n",
        "                 \"Sex_male\", \"Embarked_Q\", \"Embarked_S\"]].values\n",
        "np.shape(X)"
      ],
      "execution_count": 14,
      "outputs": [
        {
          "output_type": "execute_result",
          "data": {
            "text/plain": [
              "(891, 9)"
            ]
          },
          "metadata": {},
          "execution_count": 14
        }
      ]
    },
    {
      "cell_type": "code",
      "metadata": {
        "colab": {
          "base_uri": "https://localhost:8080/"
        },
        "id": "weSh6hmLx9AJ",
        "outputId": "535b8027-588f-44e4-ba78-12151212956a"
      },
      "source": [
        "y = train_data[\"Survived\"].values\n",
        "np.shape(y)"
      ],
      "execution_count": 15,
      "outputs": [
        {
          "output_type": "execute_result",
          "data": {
            "text/plain": [
              "(891,)"
            ]
          },
          "metadata": {},
          "execution_count": 15
        }
      ]
    },
    {
      "cell_type": "markdown",
      "metadata": {
        "id": "huAxaRYnd83q"
      },
      "source": [
        "## Train-test split"
      ]
    },
    {
      "cell_type": "code",
      "metadata": {
        "id": "-kfIr-69d560"
      },
      "source": [
        "from sklearn.model_selection import train_test_split\n",
        "X_train, X_test, y_train, y_test = train_test_split(X, y, test_size = .2, random_state=21092021)"
      ],
      "execution_count": 16,
      "outputs": []
    },
    {
      "cell_type": "markdown",
      "metadata": {
        "id": "pdDfCFSfhQVD"
      },
      "source": [
        "## Normalizing numerical variables"
      ]
    },
    {
      "cell_type": "code",
      "metadata": {
        "id": "4iBqCdgfhWeF"
      },
      "source": [
        "from sklearn.preprocessing import StandardScaler\n",
        "scaler = StandardScaler()\n",
        "X_train[:,:4] = scaler.fit_transform(X_train[:,:4])\n",
        "X_test[:,:4] = scaler.transform(X_test[:,:4])"
      ],
      "execution_count": 17,
      "outputs": []
    },
    {
      "cell_type": "markdown",
      "metadata": {
        "id": "zVSRsm0kP-Hy"
      },
      "source": [
        "## Model: Decision tree classifier"
      ]
    },
    {
      "cell_type": "code",
      "metadata": {
        "id": "Rif24lEuofNi"
      },
      "source": [
        "from sklearn.tree import DecisionTreeClassifier\n",
        "dt_model = DecisionTreeClassifier(random_state = 20092021)"
      ],
      "execution_count": 18,
      "outputs": []
    },
    {
      "cell_type": "markdown",
      "metadata": {
        "id": "hTDe1z4tbkl5"
      },
      "source": [
        "## Hyperparameter tuning with Grid-search Cross-validation"
      ]
    },
    {
      "cell_type": "code",
      "metadata": {
        "id": "VsASEsd1onHu"
      },
      "source": [
        "search_space = {\n",
        "    \"criterion\" : [\"gini\", \"entropy\"],\n",
        "    \"max_depth\" : [3, 6, None],\n",
        "}"
      ],
      "execution_count": 19,
      "outputs": []
    },
    {
      "cell_type": "code",
      "metadata": {
        "id": "K-Bul0oVbj8x"
      },
      "source": [
        "from sklearn.model_selection import GridSearchCV\n",
        "GS = GridSearchCV(estimator = dt_model,\n",
        "                  param_grid = search_space,\n",
        "                  scoring = [\"f1\", \"accuracy\"],\n",
        "                  refit = \"f1\",\n",
        "                  cv = 10,\n",
        "                  verbose = 4)"
      ],
      "execution_count": 20,
      "outputs": []
    },
    {
      "cell_type": "code",
      "metadata": {
        "colab": {
          "base_uri": "https://localhost:8080/"
        },
        "id": "pDsDvnuydn2A",
        "outputId": "b1f31ca7-7b5d-4603-f4a1-d172d649790d"
      },
      "source": [
        "GS.fit(X_train, y_train)"
      ],
      "execution_count": 21,
      "outputs": [
        {
          "output_type": "stream",
          "name": "stdout",
          "text": [
            "Fitting 10 folds for each of 6 candidates, totalling 60 fits\n",
            "[CV] criterion=gini, max_depth=3 .....................................\n",
            "[CV]  criterion=gini, max_depth=3, accuracy=0.819, f1=0.735, total=   0.0s\n",
            "[CV] criterion=gini, max_depth=3 .....................................\n",
            "[CV]  criterion=gini, max_depth=3, accuracy=0.792, f1=0.737, total=   0.0s\n",
            "[CV] criterion=gini, max_depth=3 .....................................\n",
            "[CV]  criterion=gini, max_depth=3, accuracy=0.845, f1=0.776, total=   0.0s\n",
            "[CV] criterion=gini, max_depth=3 .....................................\n",
            "[CV]  criterion=gini, max_depth=3, accuracy=0.845, f1=0.776, total=   0.0s\n",
            "[CV] criterion=gini, max_depth=3 .....................................\n",
            "[CV]  criterion=gini, max_depth=3, accuracy=0.789, f1=0.717, total=   0.0s\n",
            "[CV] criterion=gini, max_depth=3 .....................................\n",
            "[CV]  criterion=gini, max_depth=3, accuracy=0.704, f1=0.604, total=   0.0s\n",
            "[CV] criterion=gini, max_depth=3 .....................................\n",
            "[CV]  criterion=gini, max_depth=3, accuracy=0.817, f1=0.755, total=   0.0s\n",
            "[CV] criterion=gini, max_depth=3 .....................................\n",
            "[CV]  criterion=gini, max_depth=3, accuracy=0.761, f1=0.585, total=   0.0s\n",
            "[CV] criterion=gini, max_depth=3 .....................................\n",
            "[CV]  criterion=gini, max_depth=3, accuracy=0.789, f1=0.651, total=   0.0s\n",
            "[CV] criterion=gini, max_depth=3 .....................................\n",
            "[CV]  criterion=gini, max_depth=3, accuracy=0.817, f1=0.755, total=   0.0s\n",
            "[CV] criterion=gini, max_depth=6 .....................................\n",
            "[CV]  criterion=gini, max_depth=6, accuracy=0.792, f1=0.694, total=   0.0s\n",
            "[CV] criterion=gini, max_depth=6 .....................................\n",
            "[CV]  criterion=gini, max_depth=6, accuracy=0.778, f1=0.724, total=   0.0s\n",
            "[CV] criterion=gini, max_depth=6 .....................................\n",
            "[CV]  criterion=gini, max_depth=6, accuracy=0.873, f1=0.816, total=   0.0s\n",
            "[CV] criterion=gini, max_depth=6 .....................................\n",
            "[CV]  criterion=gini, max_depth=6, accuracy=0.859, f1=0.792, total=   0.0s\n",
            "[CV] criterion=gini, max_depth=6 .....................................\n",
            "[CV]  criterion=gini, max_depth=6, accuracy=0.817, f1=0.745, total=   0.0s\n",
            "[CV] criterion=gini, max_depth=6 .....................................\n",
            "[CV]  criterion=gini, max_depth=6, accuracy=0.732, f1=0.578, total=   0.0s\n",
            "[CV] criterion=gini, max_depth=6 .....................................\n",
            "[CV]  criterion=gini, max_depth=6, accuracy=0.817, f1=0.745, total=   0.0s\n",
            "[CV] criterion=gini, max_depth=6 .....................................\n",
            "[CV]  criterion=gini, max_depth=6, accuracy=0.803, f1=0.708, total=   0.0s\n",
            "[CV] criterion=gini, max_depth=6 .....................................\n",
            "[CV]  criterion=gini, max_depth=6, accuracy=0.831, f1=0.727, total=   0.0s\n",
            "[CV] criterion=gini, max_depth=6 .....................................\n",
            "[CV]  criterion=gini, max_depth=6, accuracy=0.831, f1=0.786, total=   0.0s\n",
            "[CV] criterion=gini, max_depth=None ..................................\n",
            "[CV]  criterion=gini, max_depth=None, accuracy=0.792, f1=0.737, total=   0.0s\n",
            "[CV] criterion=gini, max_depth=None ..................................\n",
            "[CV]  criterion=gini, max_depth=None, accuracy=0.833, f1=0.786, total=   0.0s\n",
            "[CV] criterion=gini, max_depth=None ..................................\n",
            "[CV]  criterion=gini, max_depth=None, accuracy=0.859, f1=0.821, total=   0.0s\n",
            "[CV] criterion=gini, max_depth=None ..................................\n",
            "[CV]  criterion=gini, max_depth=None, accuracy=0.803, f1=0.708, total=   0.0s\n",
            "[CV] criterion=gini, max_depth=None ..................................\n",
            "[CV]  criterion=gini, max_depth=None, accuracy=0.817, f1=0.755, total=   0.0s\n",
            "[CV] criterion=gini, max_depth=None ..................................\n",
            "[CV]  criterion=gini, max_depth=None, accuracy=0.732, f1=0.612, total=   0.0s\n",
            "[CV] criterion=gini, max_depth=None ..................................\n",
            "[CV]  criterion=gini, max_depth=None, accuracy=0.803, f1=0.750, total=   0.0s\n",
            "[CV] criterion=gini, max_depth=None ..................................\n",
            "[CV]  criterion=gini, max_depth=None, accuracy=0.775, f1=0.692, total=   0.0s\n",
            "[CV] criterion=gini, max_depth=None ..................................\n",
            "[CV]  criterion=gini, max_depth=None, accuracy=0.775, f1=0.692, total=   0.0s\n",
            "[CV] criterion=gini, max_depth=None ..................................\n",
            "[CV]  criterion=gini, max_depth=None, accuracy=0.775, f1=0.750, total=   0.0s\n",
            "[CV] criterion=entropy, max_depth=3 ..................................\n",
            "[CV]  criterion=entropy, max_depth=3, accuracy=0.819, f1=0.735, total=   0.0s\n",
            "[CV] criterion=entropy, max_depth=3 ..................................\n",
            "[CV]  criterion=entropy, max_depth=3, accuracy=0.792, f1=0.737, total=   0.0s\n",
            "[CV] criterion=entropy, max_depth=3 ..................................\n",
            "[CV]  criterion=entropy, max_depth=3, accuracy=0.845, f1=0.776, total=   0.0s\n",
            "[CV] criterion=entropy, max_depth=3 ..................................\n",
            "[CV]  criterion=entropy, max_depth=3, accuracy=0.873, f1=0.809, total=   0.0s\n",
            "[CV] criterion=entropy, max_depth=3 ..................................\n",
            "[CV]  criterion=entropy, max_depth=3, accuracy=0.789, f1=0.717, total=   0.0s\n",
            "[CV] criterion=entropy, max_depth=3 ..................................\n",
            "[CV]  criterion=entropy, max_depth=3, accuracy=0.718, f1=0.615, total=   0.0s\n",
            "[CV] criterion=entropy, max_depth=3 ..................................\n",
            "[CV]  criterion=entropy, max_depth=3, accuracy=0.817, f1=0.745, total=   0.0s\n",
            "[CV] criterion=entropy, max_depth=3 ..................................\n",
            "[CV]  criterion=entropy, max_depth=3, accuracy=0.761, f1=0.585, total=   0.0s\n",
            "[CV] criterion=entropy, max_depth=3 ..................................\n",
            "[CV]  criterion=entropy, max_depth=3, accuracy=0.732, f1=0.612, total=   0.0s\n",
            "[CV] criterion=entropy, max_depth=3 ..................................\n",
            "[CV]  criterion=entropy, max_depth=3, accuracy=0.817, f1=0.755, total=   0.0s\n",
            "[CV] criterion=entropy, max_depth=6 ..................................\n",
            "[CV]  criterion=entropy, max_depth=6, accuracy=0.792, f1=0.694, total=   0.0s\n",
            "[CV] criterion=entropy, max_depth=6 ..................................\n",
            "[CV]  criterion=entropy, max_depth=6, accuracy=0.792, f1=0.737, total=   0.0s\n",
            "[CV] criterion=entropy, max_depth=6 ..................................\n"
          ]
        },
        {
          "output_type": "stream",
          "name": "stderr",
          "text": [
            "[Parallel(n_jobs=1)]: Using backend SequentialBackend with 1 concurrent workers.\n",
            "[Parallel(n_jobs=1)]: Done   1 out of   1 | elapsed:    0.0s remaining:    0.0s\n",
            "[Parallel(n_jobs=1)]: Done   2 out of   2 | elapsed:    0.0s remaining:    0.0s\n",
            "[Parallel(n_jobs=1)]: Done   3 out of   3 | elapsed:    0.0s remaining:    0.0s\n"
          ]
        },
        {
          "output_type": "stream",
          "name": "stdout",
          "text": [
            "[CV]  criterion=entropy, max_depth=6, accuracy=0.859, f1=0.792, total=   0.0s\n",
            "[CV] criterion=entropy, max_depth=6 ..................................\n",
            "[CV]  criterion=entropy, max_depth=6, accuracy=0.873, f1=0.809, total=   0.0s\n",
            "[CV] criterion=entropy, max_depth=6 ..................................\n",
            "[CV]  criterion=entropy, max_depth=6, accuracy=0.789, f1=0.717, total=   0.0s\n",
            "[CV] criterion=entropy, max_depth=6 ..................................\n",
            "[CV]  criterion=entropy, max_depth=6, accuracy=0.732, f1=0.596, total=   0.0s\n",
            "[CV] criterion=entropy, max_depth=6 ..................................\n",
            "[CV]  criterion=entropy, max_depth=6, accuracy=0.845, f1=0.776, total=   0.0s\n",
            "[CV] criterion=entropy, max_depth=6 ..................................\n",
            "[CV]  criterion=entropy, max_depth=6, accuracy=0.775, f1=0.600, total=   0.0s\n",
            "[CV] criterion=entropy, max_depth=6 ..................................\n",
            "[CV]  criterion=entropy, max_depth=6, accuracy=0.803, f1=0.682, total=   0.0s\n",
            "[CV] criterion=entropy, max_depth=6 ..................................\n",
            "[CV]  criterion=entropy, max_depth=6, accuracy=0.831, f1=0.778, total=   0.0s\n",
            "[CV] criterion=entropy, max_depth=None ...............................\n",
            "[CV]  criterion=entropy, max_depth=None, accuracy=0.764, f1=0.712, total=   0.0s\n",
            "[CV] criterion=entropy, max_depth=None ...............................\n",
            "[CV]  criterion=entropy, max_depth=None, accuracy=0.819, f1=0.764, total=   0.0s\n",
            "[CV] criterion=entropy, max_depth=None ...............................\n",
            "[CV]  criterion=entropy, max_depth=None, accuracy=0.831, f1=0.800, total=   0.0s\n",
            "[CV] criterion=entropy, max_depth=None ...............................\n",
            "[CV]  criterion=entropy, max_depth=None, accuracy=0.803, f1=0.708, total=   0.0s\n",
            "[CV] criterion=entropy, max_depth=None ...............................\n",
            "[CV]  criterion=entropy, max_depth=None, accuracy=0.817, f1=0.755, total=   0.0s\n",
            "[CV] criterion=entropy, max_depth=None ...............................\n",
            "[CV]  criterion=entropy, max_depth=None, accuracy=0.732, f1=0.642, total=   0.0s\n",
            "[CV] criterion=entropy, max_depth=None ...............................\n",
            "[CV]  criterion=entropy, max_depth=None, accuracy=0.859, f1=0.808, total=   0.0s\n",
            "[CV] criterion=entropy, max_depth=None ...............................\n",
            "[CV]  criterion=entropy, max_depth=None, accuracy=0.775, f1=0.692, total=   0.0s\n",
            "[CV] criterion=entropy, max_depth=None ...............................\n",
            "[CV]  criterion=entropy, max_depth=None, accuracy=0.761, f1=0.653, total=   0.0s\n",
            "[CV] criterion=entropy, max_depth=None ...............................\n",
            "[CV]  criterion=entropy, max_depth=None, accuracy=0.746, f1=0.719, total=   0.0s\n"
          ]
        },
        {
          "output_type": "stream",
          "name": "stderr",
          "text": [
            "[Parallel(n_jobs=1)]: Done  60 out of  60 | elapsed:    0.3s finished\n"
          ]
        },
        {
          "output_type": "execute_result",
          "data": {
            "text/plain": [
              "GridSearchCV(cv=10, error_score=nan,\n",
              "             estimator=DecisionTreeClassifier(ccp_alpha=0.0, class_weight=None,\n",
              "                                              criterion='gini', max_depth=None,\n",
              "                                              max_features=None,\n",
              "                                              max_leaf_nodes=None,\n",
              "                                              min_impurity_decrease=0.0,\n",
              "                                              min_impurity_split=None,\n",
              "                                              min_samples_leaf=1,\n",
              "                                              min_samples_split=2,\n",
              "                                              min_weight_fraction_leaf=0.0,\n",
              "                                              presort='deprecated',\n",
              "                                              random_state=20092021,\n",
              "                                              splitter='best'),\n",
              "             iid='deprecated', n_jobs=None,\n",
              "             param_grid={'criterion': ['gini', 'entropy'],\n",
              "                         'max_depth': [3, 6, None]},\n",
              "             pre_dispatch='2*n_jobs', refit='f1', return_train_score=False,\n",
              "             scoring=['f1', 'accuracy'], verbose=4)"
            ]
          },
          "metadata": {},
          "execution_count": 21
        }
      ]
    },
    {
      "cell_type": "code",
      "metadata": {
        "colab": {
          "base_uri": "https://localhost:8080/"
        },
        "id": "MY3pCod8gJa0",
        "outputId": "164bf51e-4afc-4841-e517-550dc8482535"
      },
      "source": [
        "best_dt_model = GS.best_estimator_\n",
        "best_dt_model"
      ],
      "execution_count": 22,
      "outputs": [
        {
          "output_type": "execute_result",
          "data": {
            "text/plain": [
              "DecisionTreeClassifier(ccp_alpha=0.0, class_weight=None, criterion='gini',\n",
              "                       max_depth=6, max_features=None, max_leaf_nodes=None,\n",
              "                       min_impurity_decrease=0.0, min_impurity_split=None,\n",
              "                       min_samples_leaf=1, min_samples_split=2,\n",
              "                       min_weight_fraction_leaf=0.0, presort='deprecated',\n",
              "                       random_state=20092021, splitter='best')"
            ]
          },
          "metadata": {},
          "execution_count": 22
        }
      ]
    },
    {
      "cell_type": "code",
      "metadata": {
        "colab": {
          "base_uri": "https://localhost:8080/"
        },
        "id": "OX5kP2XMdoAe",
        "outputId": "dfa71854-331f-400a-cca1-27b12a4e1766"
      },
      "source": [
        "print(GS.best_params_)"
      ],
      "execution_count": 23,
      "outputs": [
        {
          "output_type": "stream",
          "name": "stdout",
          "text": [
            "{'criterion': 'gini', 'max_depth': 6}\n"
          ]
        }
      ]
    },
    {
      "cell_type": "code",
      "metadata": {
        "colab": {
          "base_uri": "https://localhost:8080/"
        },
        "id": "0wD6p9udefNx",
        "outputId": "b8c9006b-db5d-49a7-88c5-5532c2ebd8b5"
      },
      "source": [
        "print(\"cross validation f1 = \", GS.best_score_)"
      ],
      "execution_count": 24,
      "outputs": [
        {
          "output_type": "stream",
          "name": "stdout",
          "text": [
            "cross validation f1 =  0.7315302881863299\n"
          ]
        }
      ]
    },
    {
      "cell_type": "markdown",
      "metadata": {
        "id": "zn1JQ5kNh4HW"
      },
      "source": [
        "## Computing model accuracy on test data"
      ]
    },
    {
      "cell_type": "code",
      "metadata": {
        "colab": {
          "base_uri": "https://localhost:8080/"
        },
        "id": "0tjZLs9OiFod",
        "outputId": "efe30671-940a-46e8-c6a3-04af59ecf70e"
      },
      "source": [
        "y_pred = best_dt_model.predict(X_test)\n",
        "\n",
        "from sklearn.metrics import accuracy_score, f1_score\n",
        "print(\"test accuracy = \", accuracy_score(y_pred, y_test))\n",
        "print(\"test f1_score = \", f1_score(y_pred, y_test))"
      ],
      "execution_count": 25,
      "outputs": [
        {
          "output_type": "stream",
          "name": "stdout",
          "text": [
            "test accuracy =  0.8156424581005587\n",
            "test f1_score =  0.7441860465116279\n"
          ]
        }
      ]
    },
    {
      "cell_type": "markdown",
      "metadata": {
        "id": "mWnECw30xwNZ"
      },
      "source": [
        "## Prediction on test.csv"
      ]
    },
    {
      "cell_type": "code",
      "metadata": {
        "colab": {
          "base_uri": "https://localhost:8080/"
        },
        "id": "tr-lPY4XxvEN",
        "outputId": "e4a2c126-0a87-4eb1-dd02-3746e7771c32"
      },
      "source": [
        "X_new = test_data[[\"Age\", \"SibSp\", \"Parch\", \"Fare\", \"Pclass_2\", \"Pclass_3\", \n",
        "                 \"Sex_male\", \"Embarked_Q\", \"Embarked_S\"]].values\n",
        "np.shape(X_new)"
      ],
      "execution_count": 26,
      "outputs": [
        {
          "output_type": "execute_result",
          "data": {
            "text/plain": [
              "(418, 9)"
            ]
          },
          "metadata": {},
          "execution_count": 26
        }
      ]
    },
    {
      "cell_type": "code",
      "metadata": {
        "id": "v9dmTqLByOyc"
      },
      "source": [
        "X_new[:,:4] = scaler.transform(X_new[:,:4])"
      ],
      "execution_count": 27,
      "outputs": []
    },
    {
      "cell_type": "code",
      "metadata": {
        "id": "ertJ3uwiyaAw"
      },
      "source": [
        "predictions = best_dt_model.predict(X_new)"
      ],
      "execution_count": 28,
      "outputs": []
    },
    {
      "cell_type": "code",
      "metadata": {
        "colab": {
          "base_uri": "https://localhost:8080/",
          "height": 203
        },
        "id": "YoTae0fYynA8",
        "outputId": "76627f0c-0ff2-4b64-cbde-fc3eae6765ab"
      },
      "source": [
        "df = pd.read_csv(\"gender_submission.csv\")\n",
        "df.head()"
      ],
      "execution_count": 29,
      "outputs": [
        {
          "output_type": "execute_result",
          "data": {
            "text/html": [
              "<div>\n",
              "<style scoped>\n",
              "    .dataframe tbody tr th:only-of-type {\n",
              "        vertical-align: middle;\n",
              "    }\n",
              "\n",
              "    .dataframe tbody tr th {\n",
              "        vertical-align: top;\n",
              "    }\n",
              "\n",
              "    .dataframe thead th {\n",
              "        text-align: right;\n",
              "    }\n",
              "</style>\n",
              "<table border=\"1\" class=\"dataframe\">\n",
              "  <thead>\n",
              "    <tr style=\"text-align: right;\">\n",
              "      <th></th>\n",
              "      <th>PassengerId</th>\n",
              "      <th>Survived</th>\n",
              "    </tr>\n",
              "  </thead>\n",
              "  <tbody>\n",
              "    <tr>\n",
              "      <th>0</th>\n",
              "      <td>892</td>\n",
              "      <td>0</td>\n",
              "    </tr>\n",
              "    <tr>\n",
              "      <th>1</th>\n",
              "      <td>893</td>\n",
              "      <td>1</td>\n",
              "    </tr>\n",
              "    <tr>\n",
              "      <th>2</th>\n",
              "      <td>894</td>\n",
              "      <td>0</td>\n",
              "    </tr>\n",
              "    <tr>\n",
              "      <th>3</th>\n",
              "      <td>895</td>\n",
              "      <td>0</td>\n",
              "    </tr>\n",
              "    <tr>\n",
              "      <th>4</th>\n",
              "      <td>896</td>\n",
              "      <td>1</td>\n",
              "    </tr>\n",
              "  </tbody>\n",
              "</table>\n",
              "</div>"
            ],
            "text/plain": [
              "   PassengerId  Survived\n",
              "0          892         0\n",
              "1          893         1\n",
              "2          894         0\n",
              "3          895         0\n",
              "4          896         1"
            ]
          },
          "metadata": {},
          "execution_count": 29
        }
      ]
    },
    {
      "cell_type": "code",
      "metadata": {
        "colab": {
          "base_uri": "https://localhost:8080/",
          "height": 357
        },
        "id": "BQNakJMGzMY8",
        "outputId": "e5e00fd1-e709-42f5-f4b0-44cf8559a6b2"
      },
      "source": [
        "df[\"Survived\"] = predictions\n",
        "df.head(10)"
      ],
      "execution_count": 30,
      "outputs": [
        {
          "output_type": "execute_result",
          "data": {
            "text/html": [
              "<div>\n",
              "<style scoped>\n",
              "    .dataframe tbody tr th:only-of-type {\n",
              "        vertical-align: middle;\n",
              "    }\n",
              "\n",
              "    .dataframe tbody tr th {\n",
              "        vertical-align: top;\n",
              "    }\n",
              "\n",
              "    .dataframe thead th {\n",
              "        text-align: right;\n",
              "    }\n",
              "</style>\n",
              "<table border=\"1\" class=\"dataframe\">\n",
              "  <thead>\n",
              "    <tr style=\"text-align: right;\">\n",
              "      <th></th>\n",
              "      <th>PassengerId</th>\n",
              "      <th>Survived</th>\n",
              "    </tr>\n",
              "  </thead>\n",
              "  <tbody>\n",
              "    <tr>\n",
              "      <th>0</th>\n",
              "      <td>892</td>\n",
              "      <td>0</td>\n",
              "    </tr>\n",
              "    <tr>\n",
              "      <th>1</th>\n",
              "      <td>893</td>\n",
              "      <td>0</td>\n",
              "    </tr>\n",
              "    <tr>\n",
              "      <th>2</th>\n",
              "      <td>894</td>\n",
              "      <td>0</td>\n",
              "    </tr>\n",
              "    <tr>\n",
              "      <th>3</th>\n",
              "      <td>895</td>\n",
              "      <td>0</td>\n",
              "    </tr>\n",
              "    <tr>\n",
              "      <th>4</th>\n",
              "      <td>896</td>\n",
              "      <td>1</td>\n",
              "    </tr>\n",
              "    <tr>\n",
              "      <th>5</th>\n",
              "      <td>897</td>\n",
              "      <td>0</td>\n",
              "    </tr>\n",
              "    <tr>\n",
              "      <th>6</th>\n",
              "      <td>898</td>\n",
              "      <td>0</td>\n",
              "    </tr>\n",
              "    <tr>\n",
              "      <th>7</th>\n",
              "      <td>899</td>\n",
              "      <td>0</td>\n",
              "    </tr>\n",
              "    <tr>\n",
              "      <th>8</th>\n",
              "      <td>900</td>\n",
              "      <td>1</td>\n",
              "    </tr>\n",
              "    <tr>\n",
              "      <th>9</th>\n",
              "      <td>901</td>\n",
              "      <td>0</td>\n",
              "    </tr>\n",
              "  </tbody>\n",
              "</table>\n",
              "</div>"
            ],
            "text/plain": [
              "   PassengerId  Survived\n",
              "0          892         0\n",
              "1          893         0\n",
              "2          894         0\n",
              "3          895         0\n",
              "4          896         1\n",
              "5          897         0\n",
              "6          898         0\n",
              "7          899         0\n",
              "8          900         1\n",
              "9          901         0"
            ]
          },
          "metadata": {},
          "execution_count": 30
        }
      ]
    },
    {
      "cell_type": "code",
      "metadata": {
        "id": "sPv8_MswzWLK"
      },
      "source": [
        "df.to_csv(\"my_predictions.csv\", index=False)"
      ],
      "execution_count": 31,
      "outputs": []
    }
  ]
}