{
  "nbformat": 4,
  "nbformat_minor": 0,
  "metadata": {
    "colab": {
      "name": "DSCI_633_Assignment_5.ipynb",
      "provenance": [],
      "authorship_tag": "ABX9TyP8t/d8qsq/T8CWQ5Ol/mVL",
      "include_colab_link": true
    },
    "kernelspec": {
      "name": "python3",
      "display_name": "Python 3"
    },
    "language_info": {
      "name": "python"
    },
    "accelerator": "GPU"
  },
  "cells": [
    {
      "cell_type": "markdown",
      "metadata": {
        "id": "view-in-github",
        "colab_type": "text"
      },
      "source": [
        "<a href=\"https://colab.research.google.com/github/Suji04/RIT-DSCI-633-FDS/blob/main/Assignments/DSCI_633_Assignment_5.ipynb\" target=\"_parent\"><img src=\"https://colab.research.google.com/assets/colab-badge.svg\" alt=\"Open In Colab\"/></a>"
      ]
    },
    {
      "cell_type": "markdown",
      "metadata": {
        "id": "fB0M9bK-Aulw"
      },
      "source": [
        "## Import NN libraries"
      ]
    },
    {
      "cell_type": "code",
      "metadata": {
        "id": "ki-4aPc7x4vY"
      },
      "source": [
        "from tensorflow.keras.datasets import mnist\n",
        "from tensorflow.keras.models import Sequential\n",
        "from tensorflow.keras.layers import Dense, Flatten\n",
        "from tensorflow.keras.optimizers import SGD\n",
        "from tensorflow.keras.utils import to_categorical\n",
        "from keras.callbacks import EarlyStopping, ModelCheckpoint, LearningRateScheduler\n",
        "from keras.models import load_model\n",
        "\n",
        "import matplotlib.pyplot as plt\n",
        "import seaborn as sns\n",
        "import numpy as np\n",
        "from sklearn.metrics import accuracy_score"
      ],
      "execution_count": 1,
      "outputs": []
    },
    {
      "cell_type": "markdown",
      "metadata": {
        "id": "wYccVhcvFkON"
      },
      "source": [
        "## Load the data and Train-test split"
      ]
    },
    {
      "cell_type": "code",
      "metadata": {
        "id": "dfA8kGe_yd_5"
      },
      "source": [
        "(X_train, y_train), (X_test, y_test) = mnist.load_data()"
      ],
      "execution_count": 2,
      "outputs": []
    },
    {
      "cell_type": "markdown",
      "metadata": {
        "id": "ZQT51JbG9eUN"
      },
      "source": [
        "The data is already divided into train-test set"
      ]
    },
    {
      "cell_type": "markdown",
      "metadata": {
        "id": "Ex-qvW8oGYm6"
      },
      "source": [
        "## Data exploration"
      ]
    },
    {
      "cell_type": "markdown",
      "metadata": {
        "id": "vyHCFpolJLnz"
      },
      "source": [
        "#### Finding the shape of the images"
      ]
    },
    {
      "cell_type": "code",
      "metadata": {
        "colab": {
          "base_uri": "https://localhost:8080/"
        },
        "id": "VqAW9_jQGbxC",
        "outputId": "53dbc4ee-3bcb-4c9b-f8d7-ca9bbb22e599"
      },
      "source": [
        "print(f\"shape of images: {X_train[0].shape}\")"
      ],
      "execution_count": 3,
      "outputs": [
        {
          "output_type": "stream",
          "name": "stdout",
          "text": [
            "shape of images: (28, 28)\n"
          ]
        }
      ]
    },
    {
      "cell_type": "markdown",
      "metadata": {
        "id": "QDp75nBzJGyQ"
      },
      "source": [
        "#### Visualizing the distribution of classes"
      ]
    },
    {
      "cell_type": "code",
      "metadata": {
        "colab": {
          "base_uri": "https://localhost:8080/",
          "height": 338
        },
        "id": "4r8AxdsUHOsv",
        "outputId": "20e9742b-a1b6-4e06-c9f7-d5f7041ad892"
      },
      "source": [
        "fig, ax = plt.subplots(figsize = (12, 5))\n",
        "sns.countplot(x=y_train, palette=\"jet_r\")"
      ],
      "execution_count": 4,
      "outputs": [
        {
          "output_type": "execute_result",
          "data": {
            "text/plain": [
              "<matplotlib.axes._subplots.AxesSubplot at 0x7f3cbf46d850>"
            ]
          },
          "metadata": {},
          "execution_count": 4
        },
        {
          "output_type": "display_data",
          "data": {
            "image/png": "[encoded data removed]",
            "text/plain": [
              "<Figure size 864x360 with 1 Axes>"
            ]
          },
          "metadata": {
            "needs_background": "light"
          }
        }
      ]
    },
    {
      "cell_type": "markdown",
      "metadata": {
        "id": "Jhb53yxP91Ob"
      },
      "source": [
        "The data is approximately uniformly distributed among all the classes"
      ]
    },
    {
      "cell_type": "markdown",
      "metadata": {
        "id": "264Bl-gUJqEj"
      },
      "source": [
        "#### Visualizing the images"
      ]
    },
    {
      "cell_type": "code",
      "metadata": {
        "colab": {
          "base_uri": "https://localhost:8080/",
          "height": 465
        },
        "id": "0Mu1WLfRyont",
        "outputId": "0b5aaf9c-4583-486d-88fa-26323968b1e8"
      },
      "source": [
        "plt.figure(figsize=(6,8))\n",
        "for i in range(25):\n",
        "    ax = plt.subplot(5, 5, i+1)\n",
        "    plt.imshow(X_train[i], cmap=plt.get_cmap('gray'))\n",
        "    plt.title(f\"label: {y_train[i]}\")\n",
        "    plt.axis(\"off\")"
      ],
      "execution_count": 5,
      "outputs": [
        {
          "output_type": "display_data",
          "data": {
            "image/png": "[encoded data removed]",
            "text/plain": [
              "<Figure size 432x576 with 25 Axes>"
            ]
          },
          "metadata": {
            "needs_background": "light"
          }
        }
      ]
    },
    {
      "cell_type": "markdown",
      "metadata": {
        "id": "IlV_pYEgFwO_"
      },
      "source": [
        "## Data pre-processing"
      ]
    },
    {
      "cell_type": "markdown",
      "metadata": {
        "id": "x--HGviRJ28p"
      },
      "source": [
        "#### Normalizing the pixel values in the range [0, 1]"
      ]
    },
    {
      "cell_type": "code",
      "metadata": {
        "id": "wYfUEetP0wcf"
      },
      "source": [
        "X_train = X_train.astype('float32') / 255.0\n",
        "X_test = X_test.astype('float32') / 255.0"
      ],
      "execution_count": 6,
      "outputs": []
    },
    {
      "cell_type": "markdown",
      "metadata": {
        "id": "JFrC40UTJ7I0"
      },
      "source": [
        "#### Converting targets from numerical data to categorical data"
      ]
    },
    {
      "cell_type": "code",
      "metadata": {
        "id": "ImK8Diom-Pym"
      },
      "source": [
        "y_train = to_categorical(y_train)\n",
        "y_test = to_categorical(y_test)"
      ],
      "execution_count": 7,
      "outputs": []
    },
    {
      "cell_type": "markdown",
      "metadata": {
        "id": "iV3UWUBYKGPA"
      },
      "source": [
        "## Building the Neural Network"
      ]
    },
    {
      "cell_type": "code",
      "metadata": {
        "id": "FB6XbUie7wPc"
      },
      "source": [
        "def make_model():\n",
        "  model = Sequential()\n",
        "  model.add(Flatten(input_shape=(28, 28)))\n",
        "  model.add(Dense(512, activation='relu'))\n",
        "  model.add(Dense(10, activation='softmax'))\n",
        "  return model\n",
        "\n",
        "model = make_model()"
      ],
      "execution_count": 8,
      "outputs": []
    },
    {
      "cell_type": "markdown",
      "metadata": {
        "id": "oFjqKrSNKyRa"
      },
      "source": [
        "## Implementing exponentially decaying learning rate in stochastic gradient descent\n",
        "\n"
      ]
    },
    {
      "cell_type": "code",
      "metadata": {
        "id": "JPrLNNMNFr4x"
      },
      "source": [
        "def exponential_decay(epoch):\n",
        "   init_lr = 0.1\n",
        "   k = 0.1\n",
        "   lr = init_lr * np.exp(-k * epoch)\n",
        "   return lr \n",
        "\n",
        "lr_scheduler = LearningRateScheduler(exponential_decay)"
      ],
      "execution_count": 9,
      "outputs": []
    },
    {
      "cell_type": "code",
      "metadata": {
        "id": "qGt7sbOHXiJf"
      },
      "source": [
        "model.compile(loss = 'CategoricalCrossentropy', optimizer = SGD(momentum=0.9), metrics = ['accuracy'])"
      ],
      "execution_count": 10,
      "outputs": []
    },
    {
      "cell_type": "markdown",
      "metadata": {
        "id": "8ewaygcpLZuj"
      },
      "source": [
        "## Implementing early stopping based on validation accuracy"
      ]
    },
    {
      "cell_type": "code",
      "metadata": {
        "id": "6U-XVwJWCSug"
      },
      "source": [
        "earlystop = EarlyStopping(monitor='val_accuracy', patience=10, verbose=2)"
      ],
      "execution_count": 11,
      "outputs": []
    },
    {
      "cell_type": "markdown",
      "metadata": {
        "id": "qWXZbcNyLjBb"
      },
      "source": [
        "## Creating model checkpoints"
      ]
    },
    {
      "cell_type": "code",
      "metadata": {
        "id": "A7e7qiVlDG6R"
      },
      "source": [
        "checkpoint = ModelCheckpoint('model_{epoch:03d}_{val_accuracy:03f}.h5', monitor='val_accuracy', save_best_only=True, verbose=2)"
      ],
      "execution_count": 12,
      "outputs": []
    },
    {
      "cell_type": "markdown",
      "metadata": {
        "id": "pUlWzE-pNx8n"
      },
      "source": [
        "## Training"
      ]
    },
    {
      "cell_type": "code",
      "metadata": {
        "colab": {
          "base_uri": "https://localhost:8080/"
        },
        "id": "pnnW8ecQICi1",
        "outputId": "0c88b06e-3e02-44cb-86a6-9fdd90411674"
      },
      "source": [
        "history = model.fit(X_train, y_train, epochs = 50, validation_data = (X_test, y_test), callbacks=[lr_scheduler, earlystop, checkpoint])"
      ],
      "execution_count": 13,
      "outputs": [
        {
          "output_type": "stream",
          "name": "stdout",
          "text": [
            "Epoch 1/50\n",
            "1875/1875 [==============================] - 9s 4ms/step - loss: 0.2349 - accuracy: 0.9293 - val_loss: 0.1479 - val_accuracy: 0.9547\n",
            "\n",
            "Epoch 00001: val_accuracy improved from -inf to 0.95470, saving model to model_001_0.954700.h5\n",
            "Epoch 2/50\n",
            "1875/1875 [==============================] - 6s 3ms/step - loss: 0.1124 - accuracy: 0.9667 - val_loss: 0.1259 - val_accuracy: 0.9612\n",
            "\n",
            "Epoch 00002: val_accuracy improved from 0.95470 to 0.96120, saving model to model_002_0.961200.h5\n",
            "Epoch 3/50\n",
            "1875/1875 [==============================] - 6s 3ms/step - loss: 0.0724 - accuracy: 0.9782 - val_loss: 0.1165 - val_accuracy: 0.9707\n",
            "\n",
            "Epoch 00003: val_accuracy improved from 0.96120 to 0.97070, saving model to model_003_0.970700.h5\n",
            "Epoch 4/50\n",
            "1875/1875 [==============================] - 6s 3ms/step - loss: 0.0505 - accuracy: 0.9842 - val_loss: 0.0942 - val_accuracy: 0.9743\n",
            "\n",
            "Epoch 00004: val_accuracy improved from 0.97070 to 0.97430, saving model to model_004_0.974300.h5\n",
            "Epoch 5/50\n",
            "1875/1875 [==============================] - 7s 4ms/step - loss: 0.0325 - accuracy: 0.9894 - val_loss: 0.0931 - val_accuracy: 0.9756\n",
            "\n",
            "Epoch 00005: val_accuracy improved from 0.97430 to 0.97560, saving model to model_005_0.975600.h5\n",
            "Epoch 6/50\n",
            "1875/1875 [==============================] - 7s 4ms/step - loss: 0.0190 - accuracy: 0.9939 - val_loss: 0.0840 - val_accuracy: 0.9779\n",
            "\n",
            "Epoch 00006: val_accuracy improved from 0.97560 to 0.97790, saving model to model_006_0.977900.h5\n",
            "Epoch 7/50\n",
            "1875/1875 [==============================] - 7s 4ms/step - loss: 0.0103 - accuracy: 0.9966 - val_loss: 0.0739 - val_accuracy: 0.9817\n",
            "\n",
            "Epoch 00007: val_accuracy improved from 0.97790 to 0.98170, saving model to model_007_0.981700.h5\n",
            "Epoch 8/50\n",
            "1875/1875 [==============================] - 6s 3ms/step - loss: 0.0048 - accuracy: 0.9986 - val_loss: 0.0739 - val_accuracy: 0.9819\n",
            "\n",
            "Epoch 00008: val_accuracy improved from 0.98170 to 0.98190, saving model to model_008_0.981900.h5\n",
            "Epoch 9/50\n",
            "1875/1875 [==============================] - 7s 4ms/step - loss: 0.0026 - accuracy: 0.9995 - val_loss: 0.0702 - val_accuracy: 0.9835\n",
            "\n",
            "Epoch 00009: val_accuracy improved from 0.98190 to 0.98350, saving model to model_009_0.983500.h5\n",
            "Epoch 10/50\n",
            "1875/1875 [==============================] - 7s 4ms/step - loss: 0.0016 - accuracy: 0.9997 - val_loss: 0.0711 - val_accuracy: 0.9836\n",
            "\n",
            "Epoch 00010: val_accuracy improved from 0.98350 to 0.98360, saving model to model_010_0.983600.h5\n",
            "Epoch 11/50\n",
            "1875/1875 [==============================] - 6s 3ms/step - loss: 9.2632e-04 - accuracy: 0.9999 - val_loss: 0.0717 - val_accuracy: 0.9837\n",
            "\n",
            "Epoch 00011: val_accuracy improved from 0.98360 to 0.98370, saving model to model_011_0.983700.h5\n",
            "Epoch 12/50\n",
            "1875/1875 [==============================] - 7s 4ms/step - loss: 6.6987e-04 - accuracy: 1.0000 - val_loss: 0.0719 - val_accuracy: 0.9838\n",
            "\n",
            "Epoch 00012: val_accuracy improved from 0.98370 to 0.98380, saving model to model_012_0.983800.h5\n",
            "Epoch 13/50\n",
            "1875/1875 [==============================] - 7s 4ms/step - loss: 5.7802e-04 - accuracy: 1.0000 - val_loss: 0.0732 - val_accuracy: 0.9838\n",
            "\n",
            "Epoch 00013: val_accuracy did not improve from 0.98380\n",
            "Epoch 14/50\n",
            "1875/1875 [==============================] - 7s 4ms/step - loss: 5.1150e-04 - accuracy: 1.0000 - val_loss: 0.0730 - val_accuracy: 0.9841\n",
            "\n",
            "Epoch 00014: val_accuracy improved from 0.98380 to 0.98410, saving model to model_014_0.984100.h5\n",
            "Epoch 15/50\n",
            "1875/1875 [==============================] - 6s 3ms/step - loss: 4.6654e-04 - accuracy: 1.0000 - val_loss: 0.0731 - val_accuracy: 0.9839\n",
            "\n",
            "Epoch 00015: val_accuracy did not improve from 0.98410\n",
            "Epoch 16/50\n",
            "1875/1875 [==============================] - 6s 3ms/step - loss: 4.3930e-04 - accuracy: 1.0000 - val_loss: 0.0735 - val_accuracy: 0.9840\n",
            "\n",
            "Epoch 00016: val_accuracy did not improve from 0.98410\n",
            "Epoch 17/50\n",
            "1875/1875 [==============================] - 6s 3ms/step - loss: 4.1481e-04 - accuracy: 1.0000 - val_loss: 0.0738 - val_accuracy: 0.9839\n",
            "\n",
            "Epoch 00017: val_accuracy did not improve from 0.98410\n",
            "Epoch 18/50\n",
            "1875/1875 [==============================] - 7s 4ms/step - loss: 3.9562e-04 - accuracy: 1.0000 - val_loss: 0.0738 - val_accuracy: 0.9839\n",
            "\n",
            "Epoch 00018: val_accuracy did not improve from 0.98410\n",
            "Epoch 19/50\n",
            "1875/1875 [==============================] - 7s 4ms/step - loss: 3.8067e-04 - accuracy: 1.0000 - val_loss: 0.0738 - val_accuracy: 0.9841\n",
            "\n",
            "Epoch 00019: val_accuracy did not improve from 0.98410\n",
            "Epoch 20/50\n",
            "1875/1875 [==============================] - 6s 3ms/step - loss: 3.6711e-04 - accuracy: 1.0000 - val_loss: 0.0739 - val_accuracy: 0.9840\n",
            "\n",
            "Epoch 00020: val_accuracy did not improve from 0.98410\n",
            "Epoch 21/50\n",
            "1875/1875 [==============================] - 8s 4ms/step - loss: 3.5569e-04 - accuracy: 1.0000 - val_loss: 0.0741 - val_accuracy: 0.9840\n",
            "\n",
            "Epoch 00021: val_accuracy did not improve from 0.98410\n",
            "Epoch 22/50\n",
            "1875/1875 [==============================] - 12s 6ms/step - loss: 3.4631e-04 - accuracy: 1.0000 - val_loss: 0.0742 - val_accuracy: 0.9839\n",
            "\n",
            "Epoch 00022: val_accuracy did not improve from 0.98410\n",
            "Epoch 23/50\n",
            "1875/1875 [==============================] - 11s 6ms/step - loss: 3.3887e-04 - accuracy: 1.0000 - val_loss: 0.0742 - val_accuracy: 0.9840\n",
            "\n",
            "Epoch 00023: val_accuracy did not improve from 0.98410\n",
            "Epoch 24/50\n",
            "1875/1875 [==============================] - 6s 3ms/step - loss: 3.3116e-04 - accuracy: 1.0000 - val_loss: 0.0743 - val_accuracy: 0.9840\n",
            "\n",
            "Epoch 00024: val_accuracy did not improve from 0.98410\n",
            "Epoch 00024: early stopping\n"
          ]
        }
      ]
    },
    {
      "cell_type": "markdown",
      "metadata": {
        "id": "sl66dEdxkHLG"
      },
      "source": [
        "## Plotting loss against learning rate"
      ]
    },
    {
      "cell_type": "code",
      "metadata": {
        "colab": {
          "base_uri": "https://localhost:8080/",
          "height": 322
        },
        "id": "XakSS14SRIzA",
        "outputId": "a0b962d8-d249-4b0f-ca8e-0015803a5248"
      },
      "source": [
        "loss = history.history['loss']\n",
        "val_loss = history.history['val_loss']\n",
        "\n",
        "epochs = range(0, len(loss))\n",
        "lr_arr = []\n",
        "for e in epochs:\n",
        "  lr_arr.append(np.round(exponential_decay(e), 5))\n",
        "\n",
        "plt.figure(figsize=(15,4))\n",
        "plt.plot(epochs, loss, 'b', label='Training loss')\n",
        "plt.plot(epochs, val_loss, 'r', label='Validation loss')\n",
        "plt.xticks(epochs, lr_arr, rotation=45)\n",
        "plt.ylabel('loss')\n",
        "plt.xlabel('learning rate')\n",
        "plt.title('Training and validation loss')\n",
        "plt.legend()\n",
        "plt.show()"
      ],
      "execution_count": 14,
      "outputs": [
        {
          "output_type": "display_data",
          "data": {
            "image/png": "[encoded data removed]",
            "text/plain": [
              "<Figure size 1080x288 with 1 Axes>"
            ]
          },
          "metadata": {
            "needs_background": "light"
          }
        }
      ]
    },
    {
      "cell_type": "markdown",
      "metadata": {
        "id": "DVWadk_wIp0f"
      },
      "source": [
        "## Value of learning rate when loss shoots up\n",
        "From the above plot, we notice that as the training progresses both training loss and validation loss generally decrease. However, when lr was 0.06703, the validation loss increased a bit."
      ]
    },
    {
      "cell_type": "markdown",
      "metadata": {
        "id": "4pQg22GhFaaC"
      },
      "source": [
        "## Using various optimizers"
      ]
    },
    {
      "cell_type": "markdown",
      "metadata": {
        "id": "Fy0eXWgo8Oas"
      },
      "source": [
        "#### Adagrad"
      ]
    },
    {
      "cell_type": "code",
      "metadata": {
        "colab": {
          "base_uri": "https://localhost:8080/"
        },
        "id": "bT4cJRLqkpzF",
        "outputId": "a488fde5-188e-40c6-b9c9-5b5fa3dd638f"
      },
      "source": [
        "model_2 = make_model()\n",
        "model_2.compile(loss = 'CategoricalCrossentropy', optimizer = \"Adagrad\", metrics = ['accuracy'])\n",
        "checkpoint = ModelCheckpoint('model_{epoch:03d}_{val_accuracy:03f}.h5', monitor='val_accuracy', save_best_only=True, verbose=2)\n",
        "history = model_2.fit(X_train, y_train, epochs = 50, validation_data = (X_test, y_test), callbacks=[earlystop, checkpoint])"
      ],
      "execution_count": 15,
      "outputs": [
        {
          "output_type": "stream",
          "name": "stdout",
          "text": [
            "Epoch 1/50\n",
            "1875/1875 [==============================] - 7s 4ms/step - loss: 1.0479 - accuracy: 0.7719 - val_loss: 0.5904 - val_accuracy: 0.8739\n",
            "\n",
            "Epoch 00001: val_accuracy improved from -inf to 0.87390, saving model to model_001_0.873900.h5\n",
            "Epoch 2/50\n",
            "1875/1875 [==============================] - 7s 4ms/step - loss: 0.5253 - accuracy: 0.8741 - val_loss: 0.4420 - val_accuracy: 0.8925\n",
            "\n",
            "Epoch 00002: val_accuracy improved from 0.87390 to 0.89250, saving model to model_002_0.892500.h5\n",
            "Epoch 3/50\n",
            "1875/1875 [==============================] - 7s 4ms/step - loss: 0.4321 - accuracy: 0.8893 - val_loss: 0.3865 - val_accuracy: 0.9024\n",
            "\n",
            "Epoch 00003: val_accuracy improved from 0.89250 to 0.90240, saving model to model_003_0.902400.h5\n",
            "Epoch 4/50\n",
            "1875/1875 [==============================] - 7s 3ms/step - loss: 0.3882 - accuracy: 0.8974 - val_loss: 0.3550 - val_accuracy: 0.9081\n",
            "\n",
            "Epoch 00004: val_accuracy improved from 0.90240 to 0.90810, saving model to model_004_0.908100.h5\n",
            "Epoch 5/50\n",
            "1875/1875 [==============================] - 7s 3ms/step - loss: 0.3609 - accuracy: 0.9031 - val_loss: 0.3335 - val_accuracy: 0.9123\n",
            "\n",
            "Epoch 00005: val_accuracy improved from 0.90810 to 0.91230, saving model to model_005_0.912300.h5\n",
            "Epoch 6/50\n",
            "1875/1875 [==============================] - 6s 3ms/step - loss: 0.3414 - accuracy: 0.9072 - val_loss: 0.3181 - val_accuracy: 0.9153\n",
            "\n",
            "Epoch 00006: val_accuracy improved from 0.91230 to 0.91530, saving model to model_006_0.915300.h5\n",
            "Epoch 7/50\n",
            "1875/1875 [==============================] - 6s 3ms/step - loss: 0.3263 - accuracy: 0.9108 - val_loss: 0.3055 - val_accuracy: 0.9187\n",
            "\n",
            "Epoch 00007: val_accuracy improved from 0.91530 to 0.91870, saving model to model_007_0.918700.h5\n",
            "Epoch 8/50\n",
            "1875/1875 [==============================] - 6s 3ms/step - loss: 0.3141 - accuracy: 0.9140 - val_loss: 0.2954 - val_accuracy: 0.9204\n",
            "\n",
            "Epoch 00008: val_accuracy improved from 0.91870 to 0.92040, saving model to model_008_0.920400.h5\n",
            "Epoch 9/50\n",
            "1875/1875 [==============================] - 6s 3ms/step - loss: 0.3038 - accuracy: 0.9167 - val_loss: 0.2866 - val_accuracy: 0.9230\n",
            "\n",
            "Epoch 00009: val_accuracy improved from 0.92040 to 0.92300, saving model to model_009_0.923000.h5\n",
            "Epoch 10/50\n",
            "1875/1875 [==============================] - 7s 4ms/step - loss: 0.2948 - accuracy: 0.9188 - val_loss: 0.2790 - val_accuracy: 0.9235\n",
            "\n",
            "Epoch 00010: val_accuracy improved from 0.92300 to 0.92350, saving model to model_010_0.923500.h5\n",
            "Epoch 11/50\n",
            "1875/1875 [==============================] - 7s 4ms/step - loss: 0.2869 - accuracy: 0.9212 - val_loss: 0.2723 - val_accuracy: 0.9256\n",
            "\n",
            "Epoch 00011: val_accuracy improved from 0.92350 to 0.92560, saving model to model_011_0.925600.h5\n",
            "Epoch 12/50\n",
            "1875/1875 [==============================] - 7s 4ms/step - loss: 0.2799 - accuracy: 0.9227 - val_loss: 0.2660 - val_accuracy: 0.9278\n",
            "\n",
            "Epoch 00012: val_accuracy improved from 0.92560 to 0.92780, saving model to model_012_0.927800.h5\n",
            "Epoch 13/50\n",
            "1875/1875 [==============================] - 7s 4ms/step - loss: 0.2734 - accuracy: 0.9246 - val_loss: 0.2610 - val_accuracy: 0.9284\n",
            "\n",
            "Epoch 00013: val_accuracy improved from 0.92780 to 0.92840, saving model to model_013_0.928400.h5\n",
            "Epoch 14/50\n",
            "1875/1875 [==============================] - 7s 4ms/step - loss: 0.2676 - accuracy: 0.9263 - val_loss: 0.2558 - val_accuracy: 0.9300\n",
            "\n",
            "Epoch 00014: val_accuracy improved from 0.92840 to 0.93000, saving model to model_014_0.930000.h5\n",
            "Epoch 15/50\n",
            "1875/1875 [==============================] - 7s 4ms/step - loss: 0.2622 - accuracy: 0.9279 - val_loss: 0.2512 - val_accuracy: 0.9306\n",
            "\n",
            "Epoch 00015: val_accuracy improved from 0.93000 to 0.93060, saving model to model_015_0.930600.h5\n",
            "Epoch 16/50\n",
            "1875/1875 [==============================] - 7s 4ms/step - loss: 0.2572 - accuracy: 0.9289 - val_loss: 0.2468 - val_accuracy: 0.9330\n",
            "\n",
            "Epoch 00016: val_accuracy improved from 0.93060 to 0.93300, saving model to model_016_0.933000.h5\n",
            "Epoch 17/50\n",
            "1875/1875 [==============================] - 7s 4ms/step - loss: 0.2525 - accuracy: 0.9305 - val_loss: 0.2426 - val_accuracy: 0.9345\n",
            "\n",
            "Epoch 00017: val_accuracy improved from 0.93300 to 0.93450, saving model to model_017_0.934500.h5\n",
            "Epoch 18/50\n",
            "1875/1875 [==============================] - 7s 3ms/step - loss: 0.2482 - accuracy: 0.9315 - val_loss: 0.2389 - val_accuracy: 0.9351\n",
            "\n",
            "Epoch 00018: val_accuracy improved from 0.93450 to 0.93510, saving model to model_018_0.935100.h5\n",
            "Epoch 19/50\n",
            "1875/1875 [==============================] - 7s 3ms/step - loss: 0.2441 - accuracy: 0.9328 - val_loss: 0.2351 - val_accuracy: 0.9359\n",
            "\n",
            "Epoch 00019: val_accuracy improved from 0.93510 to 0.93590, saving model to model_019_0.935900.h5\n",
            "Epoch 20/50\n",
            "1875/1875 [==============================] - 7s 4ms/step - loss: 0.2402 - accuracy: 0.9339 - val_loss: 0.2318 - val_accuracy: 0.9370\n",
            "\n",
            "Epoch 00020: val_accuracy improved from 0.93590 to 0.93700, saving model to model_020_0.937000.h5\n",
            "Epoch 21/50\n",
            "1875/1875 [==============================] - 6s 3ms/step - loss: 0.2365 - accuracy: 0.9349 - val_loss: 0.2286 - val_accuracy: 0.9373\n",
            "\n",
            "Epoch 00021: val_accuracy improved from 0.93700 to 0.93730, saving model to model_021_0.937300.h5\n",
            "Epoch 22/50\n",
            "1875/1875 [==============================] - 7s 4ms/step - loss: 0.2330 - accuracy: 0.9361 - val_loss: 0.2256 - val_accuracy: 0.9381\n",
            "\n",
            "Epoch 00022: val_accuracy improved from 0.93730 to 0.93810, saving model to model_022_0.938100.h5\n",
            "Epoch 23/50\n",
            "1875/1875 [==============================] - 7s 4ms/step - loss: 0.2297 - accuracy: 0.9368 - val_loss: 0.2230 - val_accuracy: 0.9387\n",
            "\n",
            "Epoch 00023: val_accuracy improved from 0.93810 to 0.93870, saving model to model_023_0.938700.h5\n",
            "Epoch 24/50\n",
            "1875/1875 [==============================] - 7s 3ms/step - loss: 0.2265 - accuracy: 0.9380 - val_loss: 0.2202 - val_accuracy: 0.9395\n",
            "\n",
            "Epoch 00024: val_accuracy improved from 0.93870 to 0.93950, saving model to model_024_0.939500.h5\n",
            "Epoch 25/50\n",
            "1875/1875 [==============================] - 6s 3ms/step - loss: 0.2235 - accuracy: 0.9388 - val_loss: 0.2173 - val_accuracy: 0.9408\n",
            "\n",
            "Epoch 00025: val_accuracy improved from 0.93950 to 0.94080, saving model to model_025_0.940800.h5\n",
            "Epoch 26/50\n",
            "1875/1875 [==============================] - 7s 4ms/step - loss: 0.2206 - accuracy: 0.9398 - val_loss: 0.2147 - val_accuracy: 0.9409\n",
            "\n",
            "Epoch 00026: val_accuracy improved from 0.94080 to 0.94090, saving model to model_026_0.940900.h5\n",
            "Epoch 27/50\n",
            "1875/1875 [==============================] - 7s 3ms/step - loss: 0.2178 - accuracy: 0.9405 - val_loss: 0.2122 - val_accuracy: 0.9416\n",
            "\n",
            "Epoch 00027: val_accuracy improved from 0.94090 to 0.94160, saving model to model_027_0.941600.h5\n",
            "Epoch 28/50\n",
            "1875/1875 [==============================] - 7s 4ms/step - loss: 0.2152 - accuracy: 0.9409 - val_loss: 0.2098 - val_accuracy: 0.9424\n",
            "\n",
            "Epoch 00028: val_accuracy improved from 0.94160 to 0.94240, saving model to model_028_0.942400.h5\n",
            "Epoch 29/50\n",
            "1875/1875 [==============================] - 7s 4ms/step - loss: 0.2126 - accuracy: 0.9418 - val_loss: 0.2074 - val_accuracy: 0.9430\n",
            "\n",
            "Epoch 00029: val_accuracy improved from 0.94240 to 0.94300, saving model to model_029_0.943000.h5\n",
            "Epoch 30/50\n",
            "1875/1875 [==============================] - 7s 4ms/step - loss: 0.2101 - accuracy: 0.9425 - val_loss: 0.2056 - val_accuracy: 0.9434\n",
            "\n",
            "Epoch 00030: val_accuracy improved from 0.94300 to 0.94340, saving model to model_030_0.943400.h5\n",
            "Epoch 31/50\n",
            "1875/1875 [==============================] - 7s 4ms/step - loss: 0.2077 - accuracy: 0.9429 - val_loss: 0.2034 - val_accuracy: 0.9438\n",
            "\n",
            "Epoch 00031: val_accuracy improved from 0.94340 to 0.94380, saving model to model_031_0.943800.h5\n",
            "Epoch 32/50\n",
            "1875/1875 [==============================] - 7s 4ms/step - loss: 0.2054 - accuracy: 0.9437 - val_loss: 0.2014 - val_accuracy: 0.9448\n",
            "\n",
            "Epoch 00032: val_accuracy improved from 0.94380 to 0.94480, saving model to model_032_0.944800.h5\n",
            "Epoch 33/50\n",
            "1875/1875 [==============================] - 7s 4ms/step - loss: 0.2031 - accuracy: 0.9442 - val_loss: 0.1996 - val_accuracy: 0.9451\n",
            "\n",
            "Epoch 00033: val_accuracy improved from 0.94480 to 0.94510, saving model to model_033_0.945100.h5\n",
            "Epoch 34/50\n",
            "1875/1875 [==============================] - 7s 4ms/step - loss: 0.2010 - accuracy: 0.9449 - val_loss: 0.1976 - val_accuracy: 0.9454\n",
            "\n",
            "Epoch 00034: val_accuracy improved from 0.94510 to 0.94540, saving model to model_034_0.945400.h5\n",
            "Epoch 35/50\n",
            "1875/1875 [==============================] - 7s 4ms/step - loss: 0.1989 - accuracy: 0.9454 - val_loss: 0.1957 - val_accuracy: 0.9459\n",
            "\n",
            "Epoch 00035: val_accuracy improved from 0.94540 to 0.94590, saving model to model_035_0.945900.h5\n",
            "Epoch 36/50\n",
            "1875/1875 [==============================] - 7s 4ms/step - loss: 0.1968 - accuracy: 0.9459 - val_loss: 0.1940 - val_accuracy: 0.9461\n",
            "\n",
            "Epoch 00036: val_accuracy improved from 0.94590 to 0.94610, saving model to model_036_0.946100.h5\n",
            "Epoch 37/50\n",
            "1875/1875 [==============================] - 7s 3ms/step - loss: 0.1949 - accuracy: 0.9469 - val_loss: 0.1920 - val_accuracy: 0.9468\n",
            "\n",
            "Epoch 00037: val_accuracy improved from 0.94610 to 0.94680, saving model to model_037_0.946800.h5\n",
            "Epoch 38/50\n",
            "1875/1875 [==============================] - 7s 4ms/step - loss: 0.1930 - accuracy: 0.9473 - val_loss: 0.1905 - val_accuracy: 0.9474\n",
            "\n",
            "Epoch 00038: val_accuracy improved from 0.94680 to 0.94740, saving model to model_038_0.947400.h5\n",
            "Epoch 39/50\n",
            "1875/1875 [==============================] - 7s 3ms/step - loss: 0.1912 - accuracy: 0.9480 - val_loss: 0.1888 - val_accuracy: 0.9474\n",
            "\n",
            "Epoch 00039: val_accuracy did not improve from 0.94740\n",
            "Epoch 40/50\n",
            "1875/1875 [==============================] - 7s 3ms/step - loss: 0.1893 - accuracy: 0.9484 - val_loss: 0.1872 - val_accuracy: 0.9486\n",
            "\n",
            "Epoch 00040: val_accuracy improved from 0.94740 to 0.94860, saving model to model_040_0.948600.h5\n",
            "Epoch 41/50\n",
            "1875/1875 [==============================] - 7s 4ms/step - loss: 0.1875 - accuracy: 0.9489 - val_loss: 0.1859 - val_accuracy: 0.9489\n",
            "\n",
            "Epoch 00041: val_accuracy improved from 0.94860 to 0.94890, saving model to model_041_0.948900.h5\n",
            "Epoch 42/50\n",
            "1875/1875 [==============================] - 7s 4ms/step - loss: 0.1859 - accuracy: 0.9493 - val_loss: 0.1841 - val_accuracy: 0.9491\n",
            "\n",
            "Epoch 00042: val_accuracy improved from 0.94890 to 0.94910, saving model to model_042_0.949100.h5\n",
            "Epoch 43/50\n",
            "1875/1875 [==============================] - 7s 4ms/step - loss: 0.1842 - accuracy: 0.9500 - val_loss: 0.1827 - val_accuracy: 0.9495\n",
            "\n",
            "Epoch 00043: val_accuracy improved from 0.94910 to 0.94950, saving model to model_043_0.949500.h5\n",
            "Epoch 44/50\n",
            "1875/1875 [==============================] - 7s 3ms/step - loss: 0.1826 - accuracy: 0.9503 - val_loss: 0.1814 - val_accuracy: 0.9495\n",
            "\n",
            "Epoch 00044: val_accuracy did not improve from 0.94950\n",
            "Epoch 45/50\n",
            "1875/1875 [==============================] - 7s 4ms/step - loss: 0.1810 - accuracy: 0.9507 - val_loss: 0.1798 - val_accuracy: 0.9504\n",
            "\n",
            "Epoch 00045: val_accuracy improved from 0.94950 to 0.95040, saving model to model_045_0.950400.h5\n",
            "Epoch 46/50\n",
            "1875/1875 [==============================] - 7s 4ms/step - loss: 0.1794 - accuracy: 0.9512 - val_loss: 0.1785 - val_accuracy: 0.9506\n",
            "\n",
            "Epoch 00046: val_accuracy improved from 0.95040 to 0.95060, saving model to model_046_0.950600.h5\n",
            "Epoch 47/50\n",
            "1875/1875 [==============================] - 7s 3ms/step - loss: 0.1779 - accuracy: 0.9515 - val_loss: 0.1772 - val_accuracy: 0.9506\n",
            "\n",
            "Epoch 00047: val_accuracy did not improve from 0.95060\n",
            "Epoch 48/50\n",
            "1875/1875 [==============================] - 7s 4ms/step - loss: 0.1764 - accuracy: 0.9521 - val_loss: 0.1757 - val_accuracy: 0.9510\n",
            "\n",
            "Epoch 00048: val_accuracy improved from 0.95060 to 0.95100, saving model to model_048_0.951000.h5\n",
            "Epoch 49/50\n",
            "1875/1875 [==============================] - 7s 4ms/step - loss: 0.1751 - accuracy: 0.9524 - val_loss: 0.1745 - val_accuracy: 0.9513\n",
            "\n",
            "Epoch 00049: val_accuracy improved from 0.95100 to 0.95130, saving model to model_049_0.951300.h5\n",
            "Epoch 50/50\n",
            "1875/1875 [==============================] - 7s 4ms/step - loss: 0.1736 - accuracy: 0.9529 - val_loss: 0.1734 - val_accuracy: 0.9516\n",
            "\n",
            "Epoch 00050: val_accuracy improved from 0.95130 to 0.95160, saving model to model_050_0.951600.h5\n"
          ]
        }
      ]
    },
    {
      "cell_type": "markdown",
      "metadata": {
        "id": "fJ--NGJt8GBq"
      },
      "source": [
        "#### Adam"
      ]
    },
    {
      "cell_type": "code",
      "metadata": {
        "colab": {
          "base_uri": "https://localhost:8080/"
        },
        "id": "Wf8uXCxsgUM-",
        "outputId": "132dc84e-d2fb-4990-e6ec-4f611e2a7bb8"
      },
      "source": [
        "model_3 = make_model()\n",
        "model_3.compile(loss = 'CategoricalCrossentropy', optimizer = \"adam\", metrics = ['accuracy'])\n",
        "checkpoint = ModelCheckpoint('model_{epoch:03d}_{val_accuracy:03f}.h5', monitor='val_accuracy', save_best_only=True, verbose=2)\n",
        "history = model_3.fit(X_train, y_train, epochs = 50, validation_data = (X_test, y_test), callbacks=[earlystop, checkpoint])"
      ],
      "execution_count": 16,
      "outputs": [
        {
          "output_type": "stream",
          "name": "stdout",
          "text": [
            "Epoch 1/50\n",
            "1875/1875 [==============================] - 8s 4ms/step - loss: 0.1990 - accuracy: 0.9417 - val_loss: 0.0996 - val_accuracy: 0.9694\n",
            "\n",
            "Epoch 00001: val_accuracy improved from -inf to 0.96940, saving model to model_001_0.969400.h5\n",
            "Epoch 2/50\n",
            "1875/1875 [==============================] - 7s 4ms/step - loss: 0.0807 - accuracy: 0.9753 - val_loss: 0.0907 - val_accuracy: 0.9712\n",
            "\n",
            "Epoch 00002: val_accuracy improved from 0.96940 to 0.97120, saving model to model_002_0.971200.h5\n",
            "Epoch 3/50\n",
            "1875/1875 [==============================] - 7s 3ms/step - loss: 0.0529 - accuracy: 0.9834 - val_loss: 0.0676 - val_accuracy: 0.9797\n",
            "\n",
            "Epoch 00003: val_accuracy improved from 0.97120 to 0.97970, saving model to model_003_0.979700.h5\n",
            "Epoch 4/50\n",
            "1875/1875 [==============================] - 7s 4ms/step - loss: 0.0362 - accuracy: 0.9880 - val_loss: 0.0644 - val_accuracy: 0.9800\n",
            "\n",
            "Epoch 00004: val_accuracy improved from 0.97970 to 0.98000, saving model to model_004_0.980000.h5\n",
            "Epoch 5/50\n",
            "1875/1875 [==============================] - 7s 4ms/step - loss: 0.0265 - accuracy: 0.9912 - val_loss: 0.0831 - val_accuracy: 0.9769\n",
            "\n",
            "Epoch 00005: val_accuracy did not improve from 0.98000\n",
            "Epoch 6/50\n",
            "1875/1875 [==============================] - 6s 3ms/step - loss: 0.0216 - accuracy: 0.9926 - val_loss: 0.0765 - val_accuracy: 0.9784\n",
            "\n",
            "Epoch 00006: val_accuracy did not improve from 0.98000\n",
            "Epoch 7/50\n",
            "1875/1875 [==============================] - 6s 3ms/step - loss: 0.0154 - accuracy: 0.9955 - val_loss: 0.0897 - val_accuracy: 0.9784\n",
            "\n",
            "Epoch 00007: val_accuracy did not improve from 0.98000\n",
            "Epoch 8/50\n",
            "1875/1875 [==============================] - 7s 4ms/step - loss: 0.0162 - accuracy: 0.9945 - val_loss: 0.0818 - val_accuracy: 0.9801\n",
            "\n",
            "Epoch 00008: val_accuracy improved from 0.98000 to 0.98010, saving model to model_008_0.980100.h5\n",
            "Epoch 9/50\n",
            "1875/1875 [==============================] - 6s 3ms/step - loss: 0.0111 - accuracy: 0.9962 - val_loss: 0.0813 - val_accuracy: 0.9811\n",
            "\n",
            "Epoch 00009: val_accuracy improved from 0.98010 to 0.98110, saving model to model_009_0.981100.h5\n",
            "Epoch 10/50\n",
            "1875/1875 [==============================] - 7s 3ms/step - loss: 0.0125 - accuracy: 0.9961 - val_loss: 0.0849 - val_accuracy: 0.9795\n",
            "\n",
            "Epoch 00010: val_accuracy did not improve from 0.98110\n",
            "Epoch 11/50\n",
            "1875/1875 [==============================] - 7s 4ms/step - loss: 0.0095 - accuracy: 0.9968 - val_loss: 0.0810 - val_accuracy: 0.9821\n",
            "\n",
            "Epoch 00011: val_accuracy improved from 0.98110 to 0.98210, saving model to model_011_0.982100.h5\n",
            "Epoch 12/50\n",
            "1875/1875 [==============================] - 7s 3ms/step - loss: 0.0091 - accuracy: 0.9971 - val_loss: 0.0989 - val_accuracy: 0.9788\n",
            "\n",
            "Epoch 00012: val_accuracy did not improve from 0.98210\n",
            "Epoch 13/50\n",
            "1875/1875 [==============================] - 7s 3ms/step - loss: 0.0072 - accuracy: 0.9976 - val_loss: 0.0866 - val_accuracy: 0.9808\n",
            "\n",
            "Epoch 00013: val_accuracy did not improve from 0.98210\n",
            "Epoch 14/50\n",
            "1875/1875 [==============================] - 7s 3ms/step - loss: 0.0092 - accuracy: 0.9969 - val_loss: 0.0962 - val_accuracy: 0.9812\n",
            "\n",
            "Epoch 00014: val_accuracy did not improve from 0.98210\n",
            "Epoch 15/50\n",
            "1875/1875 [==============================] - 7s 3ms/step - loss: 0.0069 - accuracy: 0.9978 - val_loss: 0.0968 - val_accuracy: 0.9798\n",
            "\n",
            "Epoch 00015: val_accuracy did not improve from 0.98210\n",
            "Epoch 16/50\n",
            "1875/1875 [==============================] - 7s 4ms/step - loss: 0.0058 - accuracy: 0.9982 - val_loss: 0.1006 - val_accuracy: 0.9815\n",
            "\n",
            "Epoch 00016: val_accuracy did not improve from 0.98210\n",
            "Epoch 17/50\n",
            "1875/1875 [==============================] - 7s 3ms/step - loss: 0.0080 - accuracy: 0.9973 - val_loss: 0.1136 - val_accuracy: 0.9800\n",
            "\n",
            "Epoch 00017: val_accuracy did not improve from 0.98210\n",
            "Epoch 18/50\n",
            "1875/1875 [==============================] - 7s 4ms/step - loss: 0.0066 - accuracy: 0.9979 - val_loss: 0.1105 - val_accuracy: 0.9809\n",
            "\n",
            "Epoch 00018: val_accuracy did not improve from 0.98210\n",
            "Epoch 19/50\n",
            "1875/1875 [==============================] - 7s 4ms/step - loss: 0.0068 - accuracy: 0.9977 - val_loss: 0.1046 - val_accuracy: 0.9828\n",
            "\n",
            "Epoch 00019: val_accuracy improved from 0.98210 to 0.98280, saving model to model_019_0.982800.h5\n",
            "Epoch 20/50\n",
            "1875/1875 [==============================] - 7s 3ms/step - loss: 0.0052 - accuracy: 0.9983 - val_loss: 0.1265 - val_accuracy: 0.9817\n",
            "\n",
            "Epoch 00020: val_accuracy did not improve from 0.98280\n",
            "Epoch 21/50\n",
            "1875/1875 [==============================] - 7s 4ms/step - loss: 0.0064 - accuracy: 0.9981 - val_loss: 0.1293 - val_accuracy: 0.9805\n",
            "\n",
            "Epoch 00021: val_accuracy did not improve from 0.98280\n",
            "Epoch 22/50\n",
            "1875/1875 [==============================] - 7s 3ms/step - loss: 0.0063 - accuracy: 0.9979 - val_loss: 0.1125 - val_accuracy: 0.9831\n",
            "\n",
            "Epoch 00022: val_accuracy improved from 0.98280 to 0.98310, saving model to model_022_0.983100.h5\n",
            "Epoch 23/50\n",
            "1875/1875 [==============================] - 7s 4ms/step - loss: 0.0045 - accuracy: 0.9986 - val_loss: 0.1592 - val_accuracy: 0.9787\n",
            "\n",
            "Epoch 00023: val_accuracy did not improve from 0.98310\n",
            "Epoch 24/50\n",
            "1875/1875 [==============================] - 7s 4ms/step - loss: 0.0072 - accuracy: 0.9979 - val_loss: 0.1271 - val_accuracy: 0.9822\n",
            "\n",
            "Epoch 00024: val_accuracy did not improve from 0.98310\n",
            "Epoch 25/50\n",
            "1875/1875 [==============================] - 7s 4ms/step - loss: 0.0053 - accuracy: 0.9984 - val_loss: 0.1336 - val_accuracy: 0.9817\n",
            "\n",
            "Epoch 00025: val_accuracy did not improve from 0.98310\n",
            "Epoch 26/50\n",
            "1875/1875 [==============================] - 7s 4ms/step - loss: 0.0049 - accuracy: 0.9986 - val_loss: 0.1323 - val_accuracy: 0.9812\n",
            "\n",
            "Epoch 00026: val_accuracy did not improve from 0.98310\n",
            "Epoch 27/50\n",
            "1875/1875 [==============================] - 7s 4ms/step - loss: 0.0043 - accuracy: 0.9986 - val_loss: 0.1217 - val_accuracy: 0.9830\n",
            "\n",
            "Epoch 00027: val_accuracy did not improve from 0.98310\n",
            "Epoch 28/50\n",
            "1875/1875 [==============================] - 7s 4ms/step - loss: 0.0056 - accuracy: 0.9984 - val_loss: 0.1351 - val_accuracy: 0.9793\n",
            "\n",
            "Epoch 00028: val_accuracy did not improve from 0.98310\n",
            "Epoch 29/50\n",
            "1875/1875 [==============================] - 7s 4ms/step - loss: 0.0058 - accuracy: 0.9983 - val_loss: 0.1464 - val_accuracy: 0.9823\n",
            "\n",
            "Epoch 00029: val_accuracy did not improve from 0.98310\n",
            "Epoch 30/50\n",
            "1875/1875 [==============================] - 7s 4ms/step - loss: 0.0029 - accuracy: 0.9991 - val_loss: 0.1447 - val_accuracy: 0.9811\n",
            "\n",
            "Epoch 00030: val_accuracy did not improve from 0.98310\n",
            "Epoch 31/50\n",
            "1875/1875 [==============================] - 7s 4ms/step - loss: 0.0060 - accuracy: 0.9982 - val_loss: 0.1458 - val_accuracy: 0.9815\n",
            "\n",
            "Epoch 00031: val_accuracy did not improve from 0.98310\n",
            "Epoch 32/50\n",
            "1875/1875 [==============================] - 7s 3ms/step - loss: 0.0055 - accuracy: 0.9983 - val_loss: 0.1444 - val_accuracy: 0.9825\n",
            "\n",
            "Epoch 00032: val_accuracy did not improve from 0.98310\n",
            "Epoch 00032: early stopping\n"
          ]
        }
      ]
    },
    {
      "cell_type": "markdown",
      "metadata": {
        "id": "YIsm0cjB8KeU"
      },
      "source": [
        "#### Rmsprop"
      ]
    },
    {
      "cell_type": "code",
      "metadata": {
        "colab": {
          "base_uri": "https://localhost:8080/"
        },
        "id": "JuqpHIG5kwl_",
        "outputId": "dc4cb1dd-c8f7-40ca-ac74-7c393b50d167"
      },
      "source": [
        "model_4 = make_model()\n",
        "model_4.compile(loss = 'CategoricalCrossentropy', optimizer = \"RMSprop\", metrics = ['accuracy'])\n",
        "checkpoint = ModelCheckpoint('model_{epoch:03d}_{val_accuracy:03f}.h5', monitor='val_accuracy', save_best_only=True, verbose=2)\n",
        "history = model_4.fit(X_train, y_train, epochs = 50, validation_data = (X_test, y_test), callbacks=[earlystop, checkpoint])"
      ],
      "execution_count": 17,
      "outputs": [
        {
          "output_type": "stream",
          "name": "stdout",
          "text": [
            "Epoch 1/50\n",
            "1875/1875 [==============================] - 50s 27ms/step - loss: 0.2035 - accuracy: 0.9397 - val_loss: 0.1033 - val_accuracy: 0.9706\n",
            "\n",
            "Epoch 00001: val_accuracy improved from -inf to 0.97060, saving model to model_001_0.970600.h5\n",
            "Epoch 2/50\n",
            "1875/1875 [==============================] - 8s 4ms/step - loss: 0.0905 - accuracy: 0.9742 - val_loss: 0.0961 - val_accuracy: 0.9751\n",
            "\n",
            "Epoch 00002: val_accuracy improved from 0.97060 to 0.97510, saving model to model_002_0.975100.h5\n",
            "Epoch 3/50\n",
            "1875/1875 [==============================] - 7s 4ms/step - loss: 0.0650 - accuracy: 0.9814 - val_loss: 0.0849 - val_accuracy: 0.9777\n",
            "\n",
            "Epoch 00003: val_accuracy improved from 0.97510 to 0.97770, saving model to model_003_0.977700.h5\n",
            "Epoch 4/50\n",
            "1875/1875 [==============================] - 7s 4ms/step - loss: 0.0503 - accuracy: 0.9858 - val_loss: 0.0869 - val_accuracy: 0.9790\n",
            "\n",
            "Epoch 00004: val_accuracy improved from 0.97770 to 0.97900, saving model to model_004_0.979000.h5\n",
            "Epoch 5/50\n",
            "1875/1875 [==============================] - 7s 4ms/step - loss: 0.0416 - accuracy: 0.9886 - val_loss: 0.0866 - val_accuracy: 0.9805\n",
            "\n",
            "Epoch 00005: val_accuracy improved from 0.97900 to 0.98050, saving model to model_005_0.980500.h5\n",
            "Epoch 6/50\n",
            "1875/1875 [==============================] - 8s 4ms/step - loss: 0.0329 - accuracy: 0.9914 - val_loss: 0.1047 - val_accuracy: 0.9772\n",
            "\n",
            "Epoch 00006: val_accuracy did not improve from 0.98050\n",
            "Epoch 7/50\n",
            "1875/1875 [==============================] - 7s 4ms/step - loss: 0.0281 - accuracy: 0.9927 - val_loss: 0.0921 - val_accuracy: 0.9806\n",
            "\n",
            "Epoch 00007: val_accuracy improved from 0.98050 to 0.98060, saving model to model_007_0.980600.h5\n",
            "Epoch 8/50\n",
            "1875/1875 [==============================] - 7s 4ms/step - loss: 0.0229 - accuracy: 0.9941 - val_loss: 0.1116 - val_accuracy: 0.9782\n",
            "\n",
            "Epoch 00008: val_accuracy did not improve from 0.98060\n",
            "Epoch 9/50\n",
            "1875/1875 [==============================] - 8s 4ms/step - loss: 0.0178 - accuracy: 0.9953 - val_loss: 0.0985 - val_accuracy: 0.9805\n",
            "\n",
            "Epoch 00009: val_accuracy did not improve from 0.98060\n",
            "Epoch 10/50\n",
            "1875/1875 [==============================] - 8s 4ms/step - loss: 0.0148 - accuracy: 0.9958 - val_loss: 0.0942 - val_accuracy: 0.9817\n",
            "\n",
            "Epoch 00010: val_accuracy improved from 0.98060 to 0.98170, saving model to model_010_0.981700.h5\n",
            "Epoch 11/50\n",
            "1875/1875 [==============================] - 7s 4ms/step - loss: 0.0116 - accuracy: 0.9969 - val_loss: 0.1132 - val_accuracy: 0.9805\n",
            "\n",
            "Epoch 00011: val_accuracy did not improve from 0.98170\n",
            "Epoch 12/50\n",
            "1875/1875 [==============================] - 7s 4ms/step - loss: 0.0105 - accuracy: 0.9971 - val_loss: 0.0991 - val_accuracy: 0.9833\n",
            "\n",
            "Epoch 00012: val_accuracy improved from 0.98170 to 0.98330, saving model to model_012_0.983300.h5\n",
            "Epoch 13/50\n",
            "1875/1875 [==============================] - 8s 4ms/step - loss: 0.0085 - accuracy: 0.9978 - val_loss: 0.1200 - val_accuracy: 0.9812\n",
            "\n",
            "Epoch 00013: val_accuracy did not improve from 0.98330\n",
            "Epoch 14/50\n",
            "1875/1875 [==============================] - 7s 4ms/step - loss: 0.0070 - accuracy: 0.9982 - val_loss: 0.1259 - val_accuracy: 0.9811\n",
            "\n",
            "Epoch 00014: val_accuracy did not improve from 0.98330\n",
            "Epoch 15/50\n",
            "1875/1875 [==============================] - 8s 4ms/step - loss: 0.0060 - accuracy: 0.9983 - val_loss: 0.1208 - val_accuracy: 0.9816\n",
            "\n",
            "Epoch 00015: val_accuracy did not improve from 0.98330\n",
            "Epoch 16/50\n",
            "1875/1875 [==============================] - 7s 4ms/step - loss: 0.0044 - accuracy: 0.9987 - val_loss: 0.1397 - val_accuracy: 0.9789\n",
            "\n",
            "Epoch 00016: val_accuracy did not improve from 0.98330\n",
            "Epoch 17/50\n",
            "1875/1875 [==============================] - 7s 4ms/step - loss: 0.0043 - accuracy: 0.9987 - val_loss: 0.1300 - val_accuracy: 0.9814\n",
            "\n",
            "Epoch 00017: val_accuracy did not improve from 0.98330\n",
            "Epoch 18/50\n",
            "1875/1875 [==============================] - 7s 4ms/step - loss: 0.0035 - accuracy: 0.9991 - val_loss: 0.1280 - val_accuracy: 0.9818\n",
            "\n",
            "Epoch 00018: val_accuracy did not improve from 0.98330\n",
            "Epoch 19/50\n",
            "1875/1875 [==============================] - 7s 4ms/step - loss: 0.0027 - accuracy: 0.9993 - val_loss: 0.1423 - val_accuracy: 0.9811\n",
            "\n",
            "Epoch 00019: val_accuracy did not improve from 0.98330\n",
            "Epoch 20/50\n",
            "1875/1875 [==============================] - 7s 4ms/step - loss: 0.0030 - accuracy: 0.9991 - val_loss: 0.1498 - val_accuracy: 0.9805\n",
            "\n",
            "Epoch 00020: val_accuracy did not improve from 0.98330\n",
            "Epoch 21/50\n",
            "1875/1875 [==============================] - 7s 4ms/step - loss: 0.0021 - accuracy: 0.9994 - val_loss: 0.1502 - val_accuracy: 0.9812\n",
            "\n",
            "Epoch 00021: val_accuracy did not improve from 0.98330\n",
            "Epoch 22/50\n",
            "1875/1875 [==============================] - 7s 4ms/step - loss: 0.0021 - accuracy: 0.9994 - val_loss: 0.1484 - val_accuracy: 0.9812\n",
            "\n",
            "Epoch 00022: val_accuracy did not improve from 0.98330\n",
            "Epoch 00022: early stopping\n"
          ]
        }
      ]
    },
    {
      "cell_type": "markdown",
      "metadata": {
        "id": "ScGUxFtt7yxm"
      },
      "source": [
        "## Report accuracy"
      ]
    },
    {
      "cell_type": "markdown",
      "metadata": {
        "id": "LVqaMKMvJ3gV"
      },
      "source": [
        "The highest validation accuracy was achieved by SGD optimizer with exponential lr decay. Hene, this is chosen as the final model."
      ]
    },
    {
      "cell_type": "code",
      "metadata": {
        "id": "mfbi-ZFlmVet",
        "colab": {
          "base_uri": "https://localhost:8080/"
        },
        "outputId": "0efa7745-bf9b-4761-8ba5-9dfe9cae8dc7"
      },
      "source": [
        "model = load_model(\"model_014_0.984100.h5\")\n",
        "predictions = model.predict(X_test)\n",
        "y_pred = [np.argmax(x) for x in predictions]\n",
        "y_test_ = [np.argmax(x) for x in y_test]\n",
        "print(f\"accuracy of our model: {np.round(accuracy_score(y_pred, y_test_) * 100, 5)}%\")"
      ],
      "execution_count": 18,
      "outputs": [
        {
          "output_type": "stream",
          "name": "stdout",
          "text": [
            "accuracy of our model: 98.41%\n"
          ]
        }
      ]
    }
  ]
}